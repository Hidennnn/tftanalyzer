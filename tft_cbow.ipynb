{
 "cells": [
  {
   "cell_type": "code",
   "execution_count": 1,
   "id": "c8cf0274-239b-4ce8-8e4e-4db3eee8dbc0",
   "metadata": {},
   "outputs": [],
   "source": [
    "import tensorflow as tf\n",
    "from sklearn.model_selection import train_test_split\n",
    "from tensorflow.python.keras.layers import Embedding, Lambda, Dense\n",
    "from tensorflow.python.keras.models import Sequential\n",
    "from tensorflow.python.keras.backend import mean\n",
    "from tensorflow.python.keras.callbacks import ModelCheckpoint\n",
    "from keras.utils import to_categorical\n",
    "import numpy as np\n",
    "physical_devices = tf.config.experimental.list_physical_devices('GPU')\n",
    "tf.config.experimental.set_memory_growth(physical_devices[0], True)"
   ]
  },
  {
   "cell_type": "code",
   "execution_count": 2,
   "id": "f18cc02e-8fb3-431b-b36f-1e8ea53567c0",
   "metadata": {},
   "outputs": [],
   "source": [
    "def strip_lines(line):\n",
    "    line = line.replace(')', '')\n",
    "    line = line.replace('(', '')\n",
    "    line = line.replace('\\\"', '')\n",
    "    line = line.replace('\\n', '')\n",
    "    line = line.replace(',', '')\n",
    "    line = line.replace('\\'', '')\n",
    "    line = line.split()\n",
    "    return line"
   ]
  },
  {
   "cell_type": "code",
   "execution_count": 3,
   "id": "e469f5db-8269-45cb-96f7-2c4f58599082",
   "metadata": {},
   "outputs": [],
   "source": [
    "sentences = []\n",
    "with open('pary.txt', 'r') as file:\n",
    "    lines = file.readlines()\n",
    "    for line in lines:\n",
    "        sentences.append(strip_lines(line))\n",
    "\n",
    "words = set(word for sentence in sentences for word in sentence)\n",
    "word2idx = {word: i + 1 for i, word in enumerate(words)}\n",
    "idx2word = {i: word for word, i in word2idx.items()}\n",
    "\n",
    "sequences = [[word2idx[word] for word in sentence] for sentence in sentences]"
   ]
  },
  {
   "cell_type": "code",
   "execution_count": 4,
   "id": "adc4ac27-3110-4775-b75f-9f21b09e1ea6",
   "metadata": {},
   "outputs": [],
   "source": [
    "V = len(word2idx) + 1\n",
    "X = []\n",
    "Y = []\n",
    "win_size = 2\n",
    "\n",
    "for seq in sequences:\n",
    "    for i in range(len(seq)):\n",
    "        target_word = seq[i]\n",
    "        context = []\n",
    "        for j in range(-win_size + i, win_size + 1 + i):\n",
    "            if j != i:\n",
    "                if j < 0 or j >= len(seq):\n",
    "                    context.append(0)\n",
    "                else:\n",
    "                    context.append(seq[j])\n",
    "        X.append(context)\n",
    "        Y.append(target_word)\n",
    "\n",
    "X = np.array(X)\n",
    "Y = to_categorical(Y, num_classes=V)"
   ]
  },
  {
   "cell_type": "code",
   "execution_count": 5,
   "id": "bfdda705-5b85-4d4c-810b-6997368f8200",
   "metadata": {},
   "outputs": [],
   "source": [
    "X_train, X_rest, Y_train, Y_rest = train_test_split(X, Y, test_size=0.3, random_state=42, shuffle=True)\n",
    "\n",
    "X_val, X_test, Y_val, Y_test = train_test_split(X_rest, Y_rest, test_size=0.3, random_state=42, shuffle=True)"
   ]
  },
  {
   "cell_type": "code",
   "execution_count": 6,
   "id": "5b1166df-5789-4d3a-81a2-d198794d6ac3",
   "metadata": {},
   "outputs": [],
   "source": [
    "model = Sequential([\n",
    "            Embedding(input_dim=V,\n",
    "                      output_dim=50,\n",
    "                      input_length=2 * win_size,\n",
    "                      embeddings_initializer='glorot_uniform'),\n",
    "            Lambda(lambda x: mean(x, axis=1), output_shape=(50, )),\n",
    "            Dense(V, activation='softmax', kernel_initializer='glorot_uniform')\n",
    "        ])\n",
    "\n",
    "checkpoint = ModelCheckpoint(filepath='checkpointy_tft.h5',\n",
    "                             monitor='val_accuracy',\n",
    "                             verbose=1,\n",
    "                             save_best_only=True\n",
    "                             )\n",
    "\n",
    "model.compile(loss='categorical_crossentropy', optimizer='adam', metrics=['accuracy'])"
   ]
  },
  {
   "cell_type": "code",
   "execution_count": 7,
   "id": "d87215e0-9692-4276-9871-8e008e144f6d",
   "metadata": {},
   "outputs": [
    {
     "name": "stdout",
     "output_type": "stream",
     "text": [
      "Epoch 1/10\n",
      "1432/1432 [==============================] - 8s 5ms/step - loss: 4.8720 - accuracy: 0.0403 - val_loss: 4.4985 - val_accuracy: 0.0593\n",
      "\n",
      "Epoch 00001: val_accuracy improved from -inf to 0.05930, saving model to checkpointy_tft.h5\n",
      "Epoch 2/10\n",
      "1432/1432 [==============================] - 6s 4ms/step - loss: 4.4382 - accuracy: 0.0630 - val_loss: 4.4075 - val_accuracy: 0.0646\n",
      "\n",
      "Epoch 00002: val_accuracy improved from 0.05930 to 0.06455, saving model to checkpointy_tft.h5\n",
      "Epoch 3/10\n",
      "1432/1432 [==============================] - 6s 4ms/step - loss: 4.3884 - accuracy: 0.0658 - val_loss: 4.3842 - val_accuracy: 0.0653\n",
      "\n",
      "Epoch 00003: val_accuracy improved from 0.06455 to 0.06534, saving model to checkpointy_tft.h5\n",
      "Epoch 4/10\n",
      "1432/1432 [==============================] - 6s 4ms/step - loss: 4.3740 - accuracy: 0.0662 - val_loss: 4.3758 - val_accuracy: 0.0655\n",
      "\n",
      "Epoch 00004: val_accuracy improved from 0.06534 to 0.06549, saving model to checkpointy_tft.h5\n",
      "Epoch 5/10\n",
      "1432/1432 [==============================] - 6s 4ms/step - loss: 4.3678 - accuracy: 0.0664 - val_loss: 4.3715 - val_accuracy: 0.0656\n",
      "\n",
      "Epoch 00005: val_accuracy improved from 0.06549 to 0.06564, saving model to checkpointy_tft.h5\n",
      "Epoch 6/10\n",
      "1432/1432 [==============================] - 6s 4ms/step - loss: 4.3642 - accuracy: 0.0665 - val_loss: 4.3692 - val_accuracy: 0.0658\n",
      "\n",
      "Epoch 00006: val_accuracy improved from 0.06564 to 0.06585, saving model to checkpointy_tft.h5\n",
      "Epoch 7/10\n",
      "1432/1432 [==============================] - 6s 4ms/step - loss: 4.3618 - accuracy: 0.0666 - val_loss: 4.3677 - val_accuracy: 0.0659\n",
      "\n",
      "Epoch 00007: val_accuracy improved from 0.06585 to 0.06591, saving model to checkpointy_tft.h5\n",
      "Epoch 8/10\n",
      "1432/1432 [==============================] - 6s 4ms/step - loss: 4.3601 - accuracy: 0.0665 - val_loss: 4.3664 - val_accuracy: 0.0660\n",
      "\n",
      "Epoch 00008: val_accuracy improved from 0.06591 to 0.06602, saving model to checkpointy_tft.h5\n",
      "Epoch 9/10\n",
      "1432/1432 [==============================] - 6s 4ms/step - loss: 4.3587 - accuracy: 0.0666 - val_loss: 4.3655 - val_accuracy: 0.0658\n",
      "\n",
      "Epoch 00009: val_accuracy did not improve from 0.06602\n",
      "Epoch 10/10\n",
      "1432/1432 [==============================] - 6s 4ms/step - loss: 4.3577 - accuracy: 0.0667 - val_loss: 4.3646 - val_accuracy: 0.0660\n",
      "\n",
      "Epoch 00010: val_accuracy improved from 0.06602 to 0.06603, saving model to checkpointy_tft.h5\n"
     ]
    },
    {
     "data": {
      "text/plain": [
       "<tensorflow.python.keras.callbacks.History at 0x2689ce60160>"
      ]
     },
     "execution_count": 7,
     "metadata": {},
     "output_type": "execute_result"
    }
   ],
   "source": [
    "model.fit(X_train, Y_train, validation_data=(X_val, Y_val), epochs=10, batch_size=2048, callbacks=[checkpoint])"
   ]
  },
  {
   "cell_type": "code",
   "execution_count": 8,
   "id": "7445b8a9-70f7-47b2-8f35-79da1679766b",
   "metadata": {},
   "outputs": [
    {
     "name": "stdout",
     "output_type": "stream",
     "text": [
      "11781/11781 [==============================] - 17s 1ms/step - loss: 4.3629 - accuracy: 0.0668\n"
     ]
    }
   ],
   "source": [
    "loss, accuracy = model.evaluate(X_test, Y_test)"
   ]
  },
  {
   "cell_type": "code",
   "execution_count": null,
   "id": "1b83987e-1563-453c-a070-627ecb094043",
   "metadata": {},
   "outputs": [],
   "source": []
  }
 ],
 "metadata": {
  "kernelspec": {
   "display_name": "Python 3 (ipykernel)",
   "language": "python",
   "name": "python3"
  },
  "language_info": {
   "codemirror_mode": {
    "name": "ipython",
    "version": 3
   },
   "file_extension": ".py",
   "mimetype": "text/x-python",
   "name": "python",
   "nbconvert_exporter": "python",
   "pygments_lexer": "ipython3",
   "version": "3.9.18"
  }
 },
 "nbformat": 4,
 "nbformat_minor": 5
}
