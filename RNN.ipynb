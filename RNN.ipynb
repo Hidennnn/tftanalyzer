{
 "cells": [
  {
   "cell_type": "code",
   "execution_count": 1,
   "id": "6d2a255e-6586-410a-99cb-ba3e786f8d58",
   "metadata": {},
   "outputs": [],
   "source": [
    "import numpy as np\n",
    "from keras.datasets import imdb\n",
    "from tensorflow.python.keras.models import Sequential\n",
    "from tensorflow.python.keras.layers import LSTM, Dense, Embedding, SpatialDropout1D\n",
    "from keras_preprocessing.sequence import pad_sequences\n",
    "import tensorflow as tf\n",
    "from keras.layers import BatchNormalization"
   ]
  },
  {
   "cell_type": "code",
   "execution_count": 2,
   "id": "965eec8e-2acd-4e1c-aaeb-897146fa1db1",
   "metadata": {},
   "outputs": [],
   "source": [
    "physical_devices = tf.config.experimental.list_physical_devices('GPU')\n",
    "tf.config.experimental.set_memory_growth(physical_devices[0], True)"
   ]
  },
  {
   "cell_type": "code",
   "execution_count": 3,
   "id": "0dd14b9f-fa14-44aa-a6c3-65721670a136",
   "metadata": {},
   "outputs": [
    {
     "name": "stdout",
     "output_type": "stream",
     "text": [
      "25000\n",
      "25000\n"
     ]
    }
   ],
   "source": [
    "(x_train, y_train), (x_test, y_test) = imdb.load_data(num_words=5000)\n",
    "print(len(x_test))\n",
    "x_train = pad_sequences(x_train, maxlen=100)\n",
    "x_test = pad_sequences(x_test, maxlen=100)\n",
    "print(len(x_test))"
   ]
  },
  {
   "cell_type": "code",
   "execution_count": 4,
   "id": "69116a58-b6ac-4ea1-b8eb-a06ae51f8986",
   "metadata": {},
   "outputs": [],
   "source": [
    "model = Sequential()\n",
    "model.add(Embedding(max_features, 50, input_length=100))\n",
    "model.add(SpatialDropout1D(0.3))\n",
    "#model.add(BatchNormalization())\n",
    "model.add(LSTM(100, dropout=0.3, recurrent_dropout=0.3))\n",
    "model.add(Dense(1, activation='sigmoid'))\n",
    "\n",
    "model.compile(loss='binary_crossentropy', optimizer='adam', metrics=['accuracy'])"
   ]
  },
  {
   "cell_type": "code",
   "execution_count": 5,
   "id": "58163ca1-06d5-4ae1-ad31-7eeeba47483d",
   "metadata": {},
   "outputs": [
    {
     "name": "stdout",
     "output_type": "stream",
     "text": [
      "Epoch 1/10\n",
      "13/13 [==============================] - 11s 618ms/step - loss: 0.6916 - accuracy: 0.5609 - val_loss: 0.6865 - val_accuracy: 0.6402\n",
      "Epoch 2/10\n",
      "13/13 [==============================] - 8s 604ms/step - loss: 0.6393 - accuracy: 0.6898 - val_loss: 0.5446 - val_accuracy: 0.7459\n",
      "Epoch 3/10\n",
      "13/13 [==============================] - 8s 592ms/step - loss: 0.5007 - accuracy: 0.7655 - val_loss: 0.4418 - val_accuracy: 0.7909\n",
      "Epoch 4/10\n",
      "13/13 [==============================] - 8s 655ms/step - loss: 0.4024 - accuracy: 0.8234 - val_loss: 0.3745 - val_accuracy: 0.8330\n",
      "Epoch 5/10\n",
      "13/13 [==============================] - 9s 668ms/step - loss: 0.3476 - accuracy: 0.8512 - val_loss: 0.3591 - val_accuracy: 0.8425\n",
      "Epoch 6/10\n",
      "13/13 [==============================] - 9s 678ms/step - loss: 0.3119 - accuracy: 0.8692 - val_loss: 0.3437 - val_accuracy: 0.8487\n",
      "Epoch 7/10\n",
      "13/13 [==============================] - 8s 637ms/step - loss: 0.2984 - accuracy: 0.8780 - val_loss: 0.3629 - val_accuracy: 0.8454\n",
      "Epoch 8/10\n",
      "13/13 [==============================] - 14s 1s/step - loss: 0.2792 - accuracy: 0.8879 - val_loss: 0.3417 - val_accuracy: 0.8512\n",
      "Epoch 9/10\n",
      "13/13 [==============================] - 8s 583ms/step - loss: 0.2650 - accuracy: 0.8935 - val_loss: 0.3648 - val_accuracy: 0.8458\n",
      "Epoch 10/10\n",
      "13/13 [==============================] - 8s 637ms/step - loss: 0.2612 - accuracy: 0.8948 - val_loss: 0.3460 - val_accuracy: 0.8493\n"
     ]
    },
    {
     "data": {
      "text/plain": [
       "<tensorflow.python.keras.callbacks.History at 0x25f7c4d9b80>"
      ]
     },
     "execution_count": 5,
     "metadata": {},
     "output_type": "execute_result"
    }
   ],
   "source": [
    "batch_size = 2048\n",
    "epochs = 10\n",
    "model.fit(x_train, y_train, validation_data=(x_test, y_test), epochs=epochs, batch_size=batch_size)"
   ]
  },
  {
   "cell_type": "code",
   "execution_count": 6,
   "id": "0b3aad7e-d15b-427f-a4f8-4434f43774ae",
   "metadata": {},
   "outputs": [
    {
     "name": "stdout",
     "output_type": "stream",
     "text": [
      "782/782 [==============================] - 37s 47ms/step - loss: 0.3460 - accuracy: 0.8493\n",
      "Accuracy: 84.93%\n"
     ]
    }
   ],
   "source": [
    "scores = model.evaluate(x_test, y_test, verbose=1)\n",
    "print(\"Accuracy: %.2f%%\" % (scores[1]*100))"
   ]
  },
  {
   "cell_type": "code",
   "execution_count": null,
   "id": "f675cd08-f9c0-47d0-ae46-8d654a07d434",
   "metadata": {},
   "outputs": [],
   "source": []
  }
 ],
 "metadata": {
  "kernelspec": {
   "display_name": "Python 3 (ipykernel)",
   "language": "python",
   "name": "python3"
  },
  "language_info": {
   "codemirror_mode": {
    "name": "ipython",
    "version": 3
   },
   "file_extension": ".py",
   "mimetype": "text/x-python",
   "name": "python",
   "nbconvert_exporter": "python",
   "pygments_lexer": "ipython3",
   "version": "3.9.18"
  }
 },
 "nbformat": 4,
 "nbformat_minor": 5
}
