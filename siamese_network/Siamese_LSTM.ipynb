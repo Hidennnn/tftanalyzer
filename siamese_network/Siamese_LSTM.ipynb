{
 "cells": [
  {
   "cell_type": "code",
   "execution_count": 1,
   "id": "bb4d39fa-19ff-4626-ae66-41c054e35ce8",
   "metadata": {},
   "outputs": [
    {
     "data": {
      "text/html": [
       "<style type='text/css'>\n",
       ".datatable table.frame { margin-bottom: 0; }\n",
       ".datatable table.frame thead { border-bottom: none; }\n",
       ".datatable table.frame tr.coltypes td {  color: #FFFFFF;  line-height: 6px;  padding: 0 0.5em;}\n",
       ".datatable .bool    { background: #DDDD99; }\n",
       ".datatable .object  { background: #565656; }\n",
       ".datatable .int     { background: #5D9E5D; }\n",
       ".datatable .float   { background: #4040CC; }\n",
       ".datatable .str     { background: #CC4040; }\n",
       ".datatable .time    { background: #40CC40; }\n",
       ".datatable .row_index {  background: var(--jp-border-color3);  border-right: 1px solid var(--jp-border-color0);  color: var(--jp-ui-font-color3);  font-size: 9px;}\n",
       ".datatable .frame tbody td { text-align: left; }\n",
       ".datatable .frame tr.coltypes .row_index {  background: var(--jp-border-color0);}\n",
       ".datatable th:nth-child(2) { padding-left: 12px; }\n",
       ".datatable .hellipsis {  color: var(--jp-cell-editor-border-color);}\n",
       ".datatable .vellipsis {  background: var(--jp-layout-color0);  color: var(--jp-cell-editor-border-color);}\n",
       ".datatable .na {  color: var(--jp-cell-editor-border-color);  font-size: 80%;}\n",
       ".datatable .sp {  opacity: 0.25;}\n",
       ".datatable .footer { font-size: 9px; }\n",
       ".datatable .frame_dimensions {  background: var(--jp-border-color3);  border-top: 1px solid var(--jp-border-color0);  color: var(--jp-ui-font-color3);  display: inline-block;  opacity: 0.6;  padding: 1px 10px 1px 5px;}\n",
       "</style>\n"
      ],
      "text/plain": [
       "<IPython.core.display.HTML object>"
      ]
     },
     "metadata": {},
     "output_type": "display_data"
    }
   ],
   "source": [
    "import glob\n",
    "import os\n",
    "import re\n",
    "import pickle\n",
    "\n",
    "import datatable as dt\n",
    "import numpy as np\n",
    "import pandas as pd\n",
    "\n",
    "from datetime import datetime\n",
    "\n",
    "import tensorflow as tf\n",
    "from tensorflow.keras import models, layers, Input\n",
    "from tensorflow.keras import backend as K\n",
    "from tensorflow.keras.models import load_model\n",
    "from tensorflow.python.keras.callbacks import ModelCheckpoint\n",
    "from tensorflow.keras.preprocessing.sequence import pad_sequences\n",
    "\n",
    "from tqdm import tqdm\n",
    "\n",
    "from sklearn.metrics import confusion_matrix, classification_report, ConfusionMatrixDisplay\n",
    "import matplotlib.pyplot as plt\n",
    "import seaborn as sns"
   ]
  },
  {
   "cell_type": "code",
   "execution_count": 2,
   "id": "c14299b4-5bcf-4614-8ee9-3e3fc1d4d7bf",
   "metadata": {},
   "outputs": [],
   "source": [
    "physical_devices = tf.config.experimental.list_physical_devices('GPU')\n",
    "if 1 == len(physical_devices):\n",
    "    tf.config.experimental.set_memory_growth(physical_devices[0], True)"
   ]
  },
  {
   "cell_type": "code",
   "execution_count": 3,
   "id": "fa2a16da-a055-41b5-b590-8c1fdbcab3e8",
   "metadata": {},
   "outputs": [],
   "source": [
    "with open('embeddings_100.pkl', 'rb') as file:\n",
    "    weights = pickle.load(file)\n",
    "word2idx = {}\n",
    "with open('word2idx.pkl', 'rb') as file:\n",
    "    word2idx = pickle.load(file)"
   ]
  },
  {
   "cell_type": "code",
   "execution_count": 8,
   "id": "34abea95-e666-4da9-8dda-57dbe5bd8f8f",
   "metadata": {},
   "outputs": [],
   "source": [
    "def create_data(file_path, files_extension, data_percent):\n",
    "    X1, X2, Y = [], [], []\n",
    "    max = 0\n",
    "    \n",
    "    columns_to_drop = [\"C0\", \"puuid\", \"bigger_region\", \"region\", \"tier\", \"champion_rarity\", \"champion_tier\"]\n",
    "    \n",
    "    print('Creating data:')\n",
    "    files = glob.glob(file_path + '/*.' + files_extension)\n",
    "    files = files[:len(files)*data_percent//100]\n",
    "    \n",
    "    for file in tqdm(files):\n",
    "        df = dt.fread(file).to_pandas()\n",
    "        df.drop(columns = columns_to_drop, axis=1, inplace=True)\n",
    "        df.replace('', 'null', inplace=True)\n",
    "        \n",
    "        if pd.unique(df.placement).shape[0] != 8:\n",
    "            continue\n",
    "    \n",
    "        teams = []\n",
    "        for place in range(1, 9): \n",
    "            team = df.where(df[\"placement\"] == place).dropna()\n",
    "            team.drop(columns=[\"placement\"], inplace=True)\n",
    "            team = team.apply(lambda row: ' '.join(row.fillna('').astype(str)), axis=1)\n",
    "            \n",
    "            team_word = ' '.join(team).split()\n",
    "            team_vec = [weights[word2idx[word]-1] if word != 'null' \n",
    "                        else np.zeros(100, dtype=np.float32) for word in team_word ]\n",
    "            team_vec = np.array(team_vec, dtype=np.float32)\n",
    "            # team_vec = list(team_vec)\n",
    "            # max = team_vec.shape[0] if team_vec.shape[0] > max else max\n",
    "            teams.append(team_vec)\n",
    "    \n",
    "        for team_1 in range(8): \n",
    "            for team_2 in range(8):\n",
    "                if team_1 == team_2:\n",
    "                    continue\n",
    "                X1.append(teams[team_1])\n",
    "                X2.append(teams[team_2])\n",
    "                if team_1 < team_2:\n",
    "                    Y.append(1)\n",
    "                else:\n",
    "                    Y.append(0)\n",
    "                    \n",
    "    # print(\"Aligning data:\")\n",
    "    # for i in tqdm(range(len(X1))):\n",
    "    #     to_add = max - X1[i].shape[0]\n",
    "    #     aaa = np.zeros((to_add, 100), dtype=np.float32)\n",
    "    #     X1[i] = np.vstack((X1[i], aaa))\n",
    "\n",
    "    #     to_add = max - X2[i].shape[0]\n",
    "    #     aaa = np.zeros((to_add, 100))\n",
    "    #     X2[i] = np.vstack((X2[i], aaa))\n",
    "        \n",
    "    print(\"Converting lists to numpy arrays:\")\n",
    "    # X1, X2, Y = np.array(X1), np.array(X2), np.array(Y)\n",
    "\n",
    "    print(\"Success\")\n",
    "    return X1, X2, Y\n"
   ]
  },
  {
   "cell_type": "code",
   "execution_count": 5,
   "id": "e62d43ec-7737-48df-bd97-a93dd35a6d7f",
   "metadata": {},
   "outputs": [
    {
     "name": "stdout",
     "output_type": "stream",
     "text": [
      "Creating data:\n"
     ]
    },
    {
     "name": "stderr",
     "output_type": "stream",
     "text": [
      "100%|████████████████████████████████████████████████████████████████████████████████| 841/841 [00:36<00:00, 23.03it/s]"
     ]
    },
    {
     "name": "stdout",
     "output_type": "stream",
     "text": [
      "Converting lists to numpy arrays:\n",
      "Success\n"
     ]
    },
    {
     "name": "stderr",
     "output_type": "stream",
     "text": [
      "\n"
     ]
    }
   ],
   "source": [
    "file_path = '../data_scraping/04.04.2024'\n",
    "files_extension = 'csv'\n",
    "data_percent = 10\n",
    "X1, X2, Y = create_data(file_path, files_extension, data_percent)"
   ]
  },
  {
   "cell_type": "code",
   "execution_count": 6,
   "id": "b7dbd274-4f99-4a58-9b90-a9e71f673c7d",
   "metadata": {},
   "outputs": [
    {
     "name": "stdout",
     "output_type": "stream",
     "text": [
      "Model: \"Base_Network_LSTM\"\n",
      "_________________________________________________________________\n",
      " Layer (type)                Output Shape              Param #   \n",
      "=================================================================\n",
      " LSTM_1 (LSTM)               (None, None, 128)         117248    \n",
      "                                                                 \n",
      " LSTM_2 (LSTM)               (None, 128)               131584    \n",
      "                                                                 \n",
      " batch_normalization (BatchN  (None, 128)              512       \n",
      " ormalization)                                                   \n",
      "                                                                 \n",
      " dense (Dense)               (None, 128)               16512     \n",
      "                                                                 \n",
      "=================================================================\n",
      "Total params: 265,856\n",
      "Trainable params: 265,600\n",
      "Non-trainable params: 256\n",
      "_________________________________________________________________\n",
      "Model: \"Siamese_Network\"\n",
      "__________________________________________________________________________________________________\n",
      " Layer (type)                   Output Shape         Param #     Connected to                     \n",
      "==================================================================================================\n",
      " Team 1 (InputLayer)            [(None, None, 100)]  0           []                               \n",
      "                                                                                                  \n",
      " Team 2 (InputLayer)            [(None, None, 100)]  0           []                               \n",
      "                                                                                                  \n",
      " Base_Network_LSTM (Sequential)  (None, 128)         265856      ['Team 1[0][0]',                 \n",
      "                                                                  'Team 2[0][0]']                 \n",
      "                                                                                                  \n",
      " Concatenate (Concatenate)      (None, 256)          0           ['Base_Network_LSTM[0][0]',      \n",
      "                                                                  'Base_Network_LSTM[1][0]']      \n",
      "                                                                                                  \n",
      " Output (Dense)                 (None, 1)            257         ['Concatenate[0][0]']            \n",
      "                                                                                                  \n",
      "==================================================================================================\n",
      "Total params: 266,113\n",
      "Trainable params: 265,857\n",
      "Non-trainable params: 256\n",
      "__________________________________________________________________________________________________\n"
     ]
    }
   ],
   "source": [
    "# Base Network - LSTM\n",
    "base_network = models.Sequential(name='Base_Network_LSTM')\n",
    "\n",
    "base_network.add(Input(shape=(None, 100)))\n",
    "\n",
    "base_network.add(layers.LSTM(128, return_sequences=True, name='LSTM_1'))\n",
    "base_network.add(layers.LSTM(128, name='LSTM_2'))\n",
    "base_network.add(layers.BatchNormalization())\n",
    "\n",
    "base_network.add(layers.Dense(128, activation='relu'))\n",
    "\n",
    "base_network.summary()\n",
    "\n",
    "# Siamese Network\n",
    "input_a = Input(shape=(None, 100), name='Team 1')\n",
    "input_b = Input(shape=(None, 100), name='Team 2')\n",
    "\n",
    "processed_a = base_network(input_a)\n",
    "processed_b = base_network(input_b)\n",
    "\n",
    "concat = layers.Concatenate(name='Concatenate')([processed_a, processed_b])\n",
    "\n",
    "output = layers.Dense(1, activation='sigmoid', name='Output')(concat)\n",
    "\n",
    "model_siamese = models.Model(inputs=[input_a, input_b], outputs=output, name='Siamese_Network')\n",
    "\n",
    "model_siamese.compile(loss='mean_squared_error', optimizer='adamax', metrics=[\"accuracy\", \"mse\"])\n",
    "\n",
    "model_siamese.summary()\n"
   ]
  },
  {
   "cell_type": "code",
   "execution_count": 7,
   "id": "0a22d0bc-916e-470c-bef5-5804955231fb",
   "metadata": {},
   "outputs": [],
   "source": [
    "X1 = pad_sequences(X1, dtype='float32', padding='post', value=0.0)\n",
    "X2 = pad_sequences(X2, dtype='float32', padding='post', value=0.0)\n",
    "Y = np.array(Y, dtype='float32')"
   ]
  },
  {
   "cell_type": "code",
   "execution_count": 8,
   "id": "9a1ae54d-774a-4a54-9970-6e26eef47b8e",
   "metadata": {},
   "outputs": [
    {
     "data": {
      "text/plain": [
       "((46984, 91, 100), (46984, 91, 100), (46984,))"
      ]
     },
     "execution_count": 8,
     "metadata": {},
     "output_type": "execute_result"
    }
   ],
   "source": [
    "X1.shape, X2.shape, Y.shape"
   ]
  },
  {
   "cell_type": "code",
   "execution_count": 9,
   "id": "cd35a9e3-f8d2-4ff7-8298-5f875e314c58",
   "metadata": {},
   "outputs": [],
   "source": [
    "data_cut = X1.shape[0]\n",
    "valid_data = int(0.1 * data_cut)\n",
    "train_data = data_cut - valid_data"
   ]
  },
  {
   "cell_type": "code",
   "execution_count": 10,
   "id": "3a2ade22-cc4e-413c-9392-07c33d5836f0",
   "metadata": {},
   "outputs": [],
   "source": [
    "valid_X1 = X1[train_data:data_cut]\n",
    "valid_X2 = X2[train_data:data_cut]\n",
    "valid_Y = Y[train_data:data_cut]\n",
    "\n",
    "X1 = X1[:train_data]\n",
    "X2 = X2[:train_data]\n",
    "Y = Y[:train_data]"
   ]
  },
  {
   "cell_type": "code",
   "execution_count": 11,
   "id": "2c342cca-f940-4252-a6ca-7a73452d4ad6",
   "metadata": {},
   "outputs": [
    {
     "name": "stdout",
     "output_type": "stream",
     "text": [
      "valid:  (4698, 91, 100) (4698, 91, 100) (4698,)\n",
      "test:  (42286, 91, 100) (42286, 91, 100) (42286,)\n"
     ]
    }
   ],
   "source": [
    "print(\"valid: \",valid_X1.shape, valid_X2.shape, valid_Y.shape)\n",
    "print(\"test: \",X1.shape, X2.shape, Y.shape)\n"
   ]
  },
  {
   "cell_type": "code",
   "execution_count": 12,
   "id": "0cead6de-4e08-48e0-9ffe-5c3219553701",
   "metadata": {},
   "outputs": [],
   "source": [
    "epochs = 100\n",
    "time = datetime.now().strftime('%Y-%m-%d_%H%M%S')\n",
    "checkpoint_path = f'cpLSTM/{time}/{epochs}.h5'\n",
    "checkpoint = ModelCheckpoint(checkpoint_path, monitor='val_loss', verbose=0)"
   ]
  },
  {
   "cell_type": "code",
   "execution_count": 13,
   "id": "653dd510-1f2d-4bef-a626-f6fee5dc55b4",
   "metadata": {
    "scrolled": true
   },
   "outputs": [
    {
     "name": "stdout",
     "output_type": "stream",
     "text": [
      "Epoch 1/100\n",
      "144/144 [==============================] - 24s 94ms/step - loss: 0.1871 - accuracy: 0.7136 - mse: 0.1871 - val_loss: 0.2037 - val_accuracy: 0.7332 - val_mse: 0.2037\n",
      "Epoch 2/100\n",
      "144/144 [==============================] - 12s 80ms/step - loss: 0.1499 - accuracy: 0.7809 - mse: 0.1499 - val_loss: 0.1577 - val_accuracy: 0.7701 - val_mse: 0.1577\n",
      "Epoch 3/100\n",
      "144/144 [==============================] - 11s 78ms/step - loss: 0.1372 - accuracy: 0.8026 - mse: 0.1372 - val_loss: 0.1559 - val_accuracy: 0.7738 - val_mse: 0.1559\n",
      "Epoch 4/100\n",
      "144/144 [==============================] - 12s 80ms/step - loss: 0.1316 - accuracy: 0.8130 - mse: 0.1316 - val_loss: 0.1570 - val_accuracy: 0.7706 - val_mse: 0.1570\n",
      "Epoch 5/100\n",
      "144/144 [==============================] - 11s 78ms/step - loss: 0.1277 - accuracy: 0.8187 - mse: 0.1277 - val_loss: 0.1535 - val_accuracy: 0.7742 - val_mse: 0.1535\n",
      "Epoch 6/100\n",
      "144/144 [==============================] - 11s 77ms/step - loss: 0.1232 - accuracy: 0.8252 - mse: 0.1232 - val_loss: 0.1535 - val_accuracy: 0.7804 - val_mse: 0.1535\n",
      "Epoch 7/100\n",
      "144/144 [==============================] - 12s 80ms/step - loss: 0.1213 - accuracy: 0.8274 - mse: 0.1213 - val_loss: 0.1535 - val_accuracy: 0.7790 - val_mse: 0.1535\n",
      "Epoch 8/100\n",
      "144/144 [==============================] - 12s 81ms/step - loss: 0.1183 - accuracy: 0.8320 - mse: 0.1183 - val_loss: 0.1537 - val_accuracy: 0.7785 - val_mse: 0.1537\n",
      "Epoch 9/100\n",
      "144/144 [==============================] - 11s 78ms/step - loss: 0.1156 - accuracy: 0.8371 - mse: 0.1156 - val_loss: 0.1543 - val_accuracy: 0.7812 - val_mse: 0.1543\n",
      "Epoch 10/100\n",
      "144/144 [==============================] - 11s 77ms/step - loss: 0.1118 - accuracy: 0.8444 - mse: 0.1118 - val_loss: 0.1584 - val_accuracy: 0.7820 - val_mse: 0.1584\n",
      "Epoch 11/100\n",
      "144/144 [==============================] - 12s 87ms/step - loss: 0.1097 - accuracy: 0.8468 - mse: 0.1097 - val_loss: 0.1528 - val_accuracy: 0.7799 - val_mse: 0.1528\n",
      "Epoch 12/100\n",
      "144/144 [==============================] - 11s 79ms/step - loss: 0.1072 - accuracy: 0.8508 - mse: 0.1072 - val_loss: 0.1569 - val_accuracy: 0.7815 - val_mse: 0.1569\n",
      "Epoch 13/100\n",
      "144/144 [==============================] - 11s 76ms/step - loss: 0.1031 - accuracy: 0.8581 - mse: 0.1031 - val_loss: 0.1588 - val_accuracy: 0.7782 - val_mse: 0.1588\n",
      "Epoch 14/100\n",
      "144/144 [==============================] - 11s 77ms/step - loss: 0.1008 - accuracy: 0.8620 - mse: 0.1008 - val_loss: 0.1632 - val_accuracy: 0.7831 - val_mse: 0.1632\n",
      "Epoch 15/100\n",
      "144/144 [==============================] - 11s 77ms/step - loss: 0.0961 - accuracy: 0.8683 - mse: 0.0961 - val_loss: 0.1617 - val_accuracy: 0.7813 - val_mse: 0.1617\n",
      "Epoch 16/100\n",
      "144/144 [==============================] - 11s 76ms/step - loss: 0.0944 - accuracy: 0.8702 - mse: 0.0944 - val_loss: 0.1617 - val_accuracy: 0.7810 - val_mse: 0.1617\n",
      "Epoch 17/100\n",
      "144/144 [==============================] - 11s 77ms/step - loss: 0.0907 - accuracy: 0.8744 - mse: 0.0907 - val_loss: 0.1603 - val_accuracy: 0.7816 - val_mse: 0.1603\n",
      "Epoch 18/100\n",
      "144/144 [==============================] - 11s 77ms/step - loss: 0.0843 - accuracy: 0.8844 - mse: 0.0843 - val_loss: 0.1747 - val_accuracy: 0.7735 - val_mse: 0.1747\n",
      "Epoch 19/100\n",
      "144/144 [==============================] - 11s 79ms/step - loss: 0.0821 - accuracy: 0.8869 - mse: 0.0821 - val_loss: 0.1663 - val_accuracy: 0.7788 - val_mse: 0.1663\n",
      "Epoch 20/100\n",
      "144/144 [==============================] - 11s 79ms/step - loss: 0.0773 - accuracy: 0.8949 - mse: 0.0773 - val_loss: 0.1670 - val_accuracy: 0.7757 - val_mse: 0.1670\n",
      "Epoch 21/100\n",
      "144/144 [==============================] - 12s 81ms/step - loss: 0.0775 - accuracy: 0.8943 - mse: 0.0775 - val_loss: 0.1743 - val_accuracy: 0.7717 - val_mse: 0.1743\n",
      "Epoch 22/100\n",
      "144/144 [==============================] - 11s 75ms/step - loss: 0.0725 - accuracy: 0.9019 - mse: 0.0725 - val_loss: 0.1671 - val_accuracy: 0.7861 - val_mse: 0.1671\n",
      "Epoch 23/100\n",
      "144/144 [==============================] - 11s 77ms/step - loss: 0.0685 - accuracy: 0.9068 - mse: 0.0685 - val_loss: 0.1703 - val_accuracy: 0.7824 - val_mse: 0.1703\n",
      "Epoch 24/100\n",
      "144/144 [==============================] - 11s 77ms/step - loss: 0.0672 - accuracy: 0.9096 - mse: 0.0672 - val_loss: 0.1676 - val_accuracy: 0.7843 - val_mse: 0.1676\n",
      "Epoch 25/100\n",
      "144/144 [==============================] - 11s 76ms/step - loss: 0.0644 - accuracy: 0.9142 - mse: 0.0644 - val_loss: 0.1784 - val_accuracy: 0.7741 - val_mse: 0.1784\n",
      "Epoch 26/100\n",
      "144/144 [==============================] - 11s 77ms/step - loss: 0.0609 - accuracy: 0.9184 - mse: 0.0609 - val_loss: 0.1788 - val_accuracy: 0.7697 - val_mse: 0.1788\n",
      "Epoch 27/100\n",
      "144/144 [==============================] - 12s 80ms/step - loss: 0.0591 - accuracy: 0.9213 - mse: 0.0591 - val_loss: 0.1844 - val_accuracy: 0.7766 - val_mse: 0.1844\n",
      "Epoch 28/100\n",
      "144/144 [==============================] - 11s 79ms/step - loss: 0.0578 - accuracy: 0.9237 - mse: 0.0578 - val_loss: 0.1887 - val_accuracy: 0.7664 - val_mse: 0.1887\n",
      "Epoch 29/100\n",
      "144/144 [==============================] - 11s 78ms/step - loss: 0.0570 - accuracy: 0.9240 - mse: 0.0570 - val_loss: 0.1828 - val_accuracy: 0.7694 - val_mse: 0.1828\n",
      "Epoch 30/100\n",
      "144/144 [==============================] - 11s 78ms/step - loss: 0.0528 - accuracy: 0.9306 - mse: 0.0528 - val_loss: 0.1938 - val_accuracy: 0.7621 - val_mse: 0.1938\n",
      "Epoch 31/100\n",
      "144/144 [==============================] - 11s 80ms/step - loss: 0.0516 - accuracy: 0.9320 - mse: 0.0516 - val_loss: 0.1889 - val_accuracy: 0.7705 - val_mse: 0.1889\n",
      "Epoch 32/100\n",
      "144/144 [==============================] - 12s 82ms/step - loss: 0.0499 - accuracy: 0.9333 - mse: 0.0499 - val_loss: 0.1862 - val_accuracy: 0.7703 - val_mse: 0.1862\n",
      "Epoch 33/100\n",
      "144/144 [==============================] - 11s 80ms/step - loss: 0.0492 - accuracy: 0.9350 - mse: 0.0492 - val_loss: 0.1789 - val_accuracy: 0.7857 - val_mse: 0.1789\n",
      "Epoch 34/100\n",
      "144/144 [==============================] - 12s 83ms/step - loss: 0.0461 - accuracy: 0.9393 - mse: 0.0461 - val_loss: 0.1892 - val_accuracy: 0.7709 - val_mse: 0.1892\n",
      "Epoch 35/100\n",
      "144/144 [==============================] - 11s 76ms/step - loss: 0.0444 - accuracy: 0.9425 - mse: 0.0444 - val_loss: 0.1945 - val_accuracy: 0.7675 - val_mse: 0.1945\n",
      "Epoch 36/100\n",
      "144/144 [==============================] - 11s 77ms/step - loss: 0.0419 - accuracy: 0.9458 - mse: 0.0419 - val_loss: 0.1942 - val_accuracy: 0.7686 - val_mse: 0.1942\n",
      "Epoch 37/100\n",
      "144/144 [==============================] - 11s 76ms/step - loss: 0.0405 - accuracy: 0.9469 - mse: 0.0405 - val_loss: 0.1895 - val_accuracy: 0.7736 - val_mse: 0.1895\n",
      "Epoch 38/100\n",
      "144/144 [==============================] - 11s 76ms/step - loss: 0.0382 - accuracy: 0.9508 - mse: 0.0382 - val_loss: 0.2007 - val_accuracy: 0.7643 - val_mse: 0.2007\n",
      "Epoch 39/100\n",
      "144/144 [==============================] - 11s 77ms/step - loss: 0.0399 - accuracy: 0.9476 - mse: 0.0399 - val_loss: 0.1980 - val_accuracy: 0.7694 - val_mse: 0.1980\n",
      "Epoch 40/100\n",
      "144/144 [==============================] - 11s 76ms/step - loss: 0.0364 - accuracy: 0.9532 - mse: 0.0364 - val_loss: 0.2015 - val_accuracy: 0.7634 - val_mse: 0.2015\n",
      "Epoch 41/100\n",
      "144/144 [==============================] - 11s 76ms/step - loss: 0.0359 - accuracy: 0.9533 - mse: 0.0359 - val_loss: 0.1961 - val_accuracy: 0.7711 - val_mse: 0.1961\n",
      "Epoch 42/100\n",
      "144/144 [==============================] - 11s 77ms/step - loss: 0.0356 - accuracy: 0.9535 - mse: 0.0356 - val_loss: 0.1945 - val_accuracy: 0.7712 - val_mse: 0.1945\n",
      "Epoch 43/100\n",
      "144/144 [==============================] - 11s 75ms/step - loss: 0.0325 - accuracy: 0.9585 - mse: 0.0325 - val_loss: 0.1968 - val_accuracy: 0.7723 - val_mse: 0.1968\n",
      "Epoch 44/100\n",
      "144/144 [==============================] - 11s 77ms/step - loss: 0.0319 - accuracy: 0.9592 - mse: 0.0319 - val_loss: 0.2056 - val_accuracy: 0.7577 - val_mse: 0.2056\n",
      "Epoch 45/100\n",
      "144/144 [==============================] - 11s 75ms/step - loss: 0.0307 - accuracy: 0.9605 - mse: 0.0307 - val_loss: 0.2047 - val_accuracy: 0.7610 - val_mse: 0.2047\n",
      "Epoch 46/100\n",
      "144/144 [==============================] - 11s 76ms/step - loss: 0.0324 - accuracy: 0.9578 - mse: 0.0324 - val_loss: 0.2071 - val_accuracy: 0.7586 - val_mse: 0.2071\n",
      "Epoch 47/100\n",
      "144/144 [==============================] - 11s 77ms/step - loss: 0.0300 - accuracy: 0.9620 - mse: 0.0300 - val_loss: 0.1966 - val_accuracy: 0.7716 - val_mse: 0.1966\n",
      "Epoch 48/100\n",
      "144/144 [==============================] - 11s 75ms/step - loss: 0.0289 - accuracy: 0.9629 - mse: 0.0289 - val_loss: 0.2026 - val_accuracy: 0.7657 - val_mse: 0.2026\n",
      "Epoch 49/100\n",
      "144/144 [==============================] - 11s 75ms/step - loss: 0.0289 - accuracy: 0.9631 - mse: 0.0289 - val_loss: 0.2025 - val_accuracy: 0.7676 - val_mse: 0.2025\n",
      "Epoch 50/100\n",
      "144/144 [==============================] - 11s 77ms/step - loss: 0.0278 - accuracy: 0.9649 - mse: 0.0278 - val_loss: 0.2072 - val_accuracy: 0.7654 - val_mse: 0.2072\n",
      "Epoch 51/100\n",
      "144/144 [==============================] - 11s 75ms/step - loss: 0.0244 - accuracy: 0.9689 - mse: 0.0244 - val_loss: 0.2065 - val_accuracy: 0.7648 - val_mse: 0.2065\n",
      "Epoch 52/100\n",
      "144/144 [==============================] - 11s 76ms/step - loss: 0.0270 - accuracy: 0.9654 - mse: 0.0270 - val_loss: 0.1974 - val_accuracy: 0.7738 - val_mse: 0.1974\n",
      "Epoch 53/100\n",
      "144/144 [==============================] - 11s 77ms/step - loss: 0.0233 - accuracy: 0.9711 - mse: 0.0233 - val_loss: 0.1986 - val_accuracy: 0.7760 - val_mse: 0.1986\n",
      "Epoch 54/100\n",
      "144/144 [==============================] - 11s 76ms/step - loss: 0.0260 - accuracy: 0.9663 - mse: 0.0260 - val_loss: 0.2067 - val_accuracy: 0.7623 - val_mse: 0.2067\n",
      "Epoch 55/100\n",
      "144/144 [==============================] - 11s 79ms/step - loss: 0.0223 - accuracy: 0.9720 - mse: 0.0223 - val_loss: 0.2030 - val_accuracy: 0.7665 - val_mse: 0.2030\n",
      "Epoch 56/100\n",
      "144/144 [==============================] - 12s 81ms/step - loss: 0.0250 - accuracy: 0.9681 - mse: 0.0250 - val_loss: 0.2135 - val_accuracy: 0.7589 - val_mse: 0.2135\n",
      "Epoch 57/100\n",
      "144/144 [==============================] - 11s 79ms/step - loss: 0.0197 - accuracy: 0.9750 - mse: 0.0197 - val_loss: 0.2038 - val_accuracy: 0.7725 - val_mse: 0.2038\n",
      "Epoch 58/100\n",
      "144/144 [==============================] - 11s 79ms/step - loss: 0.0223 - accuracy: 0.9713 - mse: 0.0223 - val_loss: 0.2091 - val_accuracy: 0.7649 - val_mse: 0.2091\n",
      "Epoch 59/100\n",
      "144/144 [==============================] - 11s 77ms/step - loss: 0.0200 - accuracy: 0.9740 - mse: 0.0200 - val_loss: 0.2097 - val_accuracy: 0.7616 - val_mse: 0.2097\n",
      "Epoch 60/100\n",
      "144/144 [==============================] - 11s 79ms/step - loss: 0.0206 - accuracy: 0.9734 - mse: 0.0206 - val_loss: 0.2099 - val_accuracy: 0.7619 - val_mse: 0.2099\n",
      "Epoch 61/100\n",
      "144/144 [==============================] - 12s 80ms/step - loss: 0.0214 - accuracy: 0.9725 - mse: 0.0214 - val_loss: 0.2044 - val_accuracy: 0.7676 - val_mse: 0.2044\n",
      "Epoch 62/100\n",
      "144/144 [==============================] - 11s 78ms/step - loss: 0.0195 - accuracy: 0.9745 - mse: 0.0195 - val_loss: 0.2048 - val_accuracy: 0.7670 - val_mse: 0.2048\n",
      "Epoch 63/100\n",
      "144/144 [==============================] - 12s 80ms/step - loss: 0.0214 - accuracy: 0.9724 - mse: 0.0214 - val_loss: 0.2045 - val_accuracy: 0.7709 - val_mse: 0.2045\n",
      "Epoch 64/100\n",
      "144/144 [==============================] - 11s 78ms/step - loss: 0.0168 - accuracy: 0.9786 - mse: 0.0168 - val_loss: 0.2135 - val_accuracy: 0.7616 - val_mse: 0.2135\n",
      "Epoch 65/100\n",
      "144/144 [==============================] - 11s 78ms/step - loss: 0.0180 - accuracy: 0.9771 - mse: 0.0180 - val_loss: 0.2135 - val_accuracy: 0.7612 - val_mse: 0.2135\n",
      "Epoch 66/100\n",
      "144/144 [==============================] - 12s 80ms/step - loss: 0.0182 - accuracy: 0.9770 - mse: 0.0182 - val_loss: 0.2066 - val_accuracy: 0.7725 - val_mse: 0.2066\n",
      "Epoch 67/100\n",
      "144/144 [==============================] - 11s 78ms/step - loss: 0.0213 - accuracy: 0.9728 - mse: 0.0213 - val_loss: 0.2094 - val_accuracy: 0.7714 - val_mse: 0.2094\n",
      "Epoch 68/100\n",
      "144/144 [==============================] - 11s 79ms/step - loss: 0.0182 - accuracy: 0.9773 - mse: 0.0182 - val_loss: 0.2067 - val_accuracy: 0.7708 - val_mse: 0.2067\n",
      "Epoch 69/100\n",
      "144/144 [==============================] - 11s 79ms/step - loss: 0.0167 - accuracy: 0.9790 - mse: 0.0167 - val_loss: 0.2164 - val_accuracy: 0.7597 - val_mse: 0.2164\n",
      "Epoch 70/100\n",
      "144/144 [==============================] - 11s 78ms/step - loss: 0.0173 - accuracy: 0.9780 - mse: 0.0173 - val_loss: 0.2116 - val_accuracy: 0.7645 - val_mse: 0.2116\n",
      "Epoch 71/100\n",
      "144/144 [==============================] - 11s 79ms/step - loss: 0.0158 - accuracy: 0.9801 - mse: 0.0158 - val_loss: 0.2084 - val_accuracy: 0.7660 - val_mse: 0.2084\n",
      "Epoch 72/100\n",
      "144/144 [==============================] - 11s 77ms/step - loss: 0.0140 - accuracy: 0.9828 - mse: 0.0140 - val_loss: 0.2175 - val_accuracy: 0.7616 - val_mse: 0.2175\n",
      "Epoch 73/100\n",
      "144/144 [==============================] - 11s 77ms/step - loss: 0.0151 - accuracy: 0.9812 - mse: 0.0151 - val_loss: 0.2140 - val_accuracy: 0.7635 - val_mse: 0.2140\n",
      "Epoch 74/100\n",
      "144/144 [==============================] - 12s 80ms/step - loss: 0.0175 - accuracy: 0.9775 - mse: 0.0175 - val_loss: 0.2125 - val_accuracy: 0.7616 - val_mse: 0.2125\n",
      "Epoch 75/100\n",
      "144/144 [==============================] - 11s 78ms/step - loss: 0.0145 - accuracy: 0.9818 - mse: 0.0145 - val_loss: 0.2153 - val_accuracy: 0.7601 - val_mse: 0.2153\n",
      "Epoch 76/100\n",
      "144/144 [==============================] - 12s 81ms/step - loss: 0.0163 - accuracy: 0.9791 - mse: 0.0163 - val_loss: 0.2072 - val_accuracy: 0.7694 - val_mse: 0.2072\n",
      "Epoch 77/100\n",
      "144/144 [==============================] - 11s 79ms/step - loss: 0.0123 - accuracy: 0.9851 - mse: 0.0123 - val_loss: 0.2088 - val_accuracy: 0.7712 - val_mse: 0.2088\n",
      "Epoch 78/100\n",
      "144/144 [==============================] - 11s 78ms/step - loss: 0.0140 - accuracy: 0.9820 - mse: 0.0140 - val_loss: 0.2068 - val_accuracy: 0.7711 - val_mse: 0.2068\n",
      "Epoch 79/100\n",
      "144/144 [==============================] - 12s 81ms/step - loss: 0.0143 - accuracy: 0.9821 - mse: 0.0143 - val_loss: 0.2141 - val_accuracy: 0.7641 - val_mse: 0.2141\n",
      "Epoch 80/100\n",
      "144/144 [==============================] - 12s 85ms/step - loss: 0.0138 - accuracy: 0.9831 - mse: 0.0138 - val_loss: 0.2194 - val_accuracy: 0.7613 - val_mse: 0.2194\n",
      "Epoch 81/100\n",
      "144/144 [==============================] - 11s 77ms/step - loss: 0.0144 - accuracy: 0.9814 - mse: 0.0144 - val_loss: 0.2163 - val_accuracy: 0.7659 - val_mse: 0.2163\n",
      "Epoch 82/100\n",
      "144/144 [==============================] - 12s 82ms/step - loss: 0.0129 - accuracy: 0.9843 - mse: 0.0129 - val_loss: 0.2124 - val_accuracy: 0.7675 - val_mse: 0.2124\n",
      "Epoch 83/100\n",
      "144/144 [==============================] - 11s 78ms/step - loss: 0.0129 - accuracy: 0.9840 - mse: 0.0129 - val_loss: 0.2151 - val_accuracy: 0.7645 - val_mse: 0.2151\n",
      "Epoch 84/100\n",
      "144/144 [==============================] - 12s 86ms/step - loss: 0.0141 - accuracy: 0.9821 - mse: 0.0141 - val_loss: 0.2118 - val_accuracy: 0.7671 - val_mse: 0.2118\n",
      "Epoch 85/100\n",
      "144/144 [==============================] - 11s 79ms/step - loss: 0.0101 - accuracy: 0.9877 - mse: 0.0101 - val_loss: 0.2121 - val_accuracy: 0.7703 - val_mse: 0.2121\n",
      "Epoch 86/100\n",
      "144/144 [==============================] - 11s 77ms/step - loss: 0.0094 - accuracy: 0.9886 - mse: 0.0094 - val_loss: 0.2215 - val_accuracy: 0.7599 - val_mse: 0.2215\n",
      "Epoch 87/100\n",
      "144/144 [==============================] - 11s 79ms/step - loss: 0.0118 - accuracy: 0.9853 - mse: 0.0118 - val_loss: 0.2119 - val_accuracy: 0.7689 - val_mse: 0.2119\n",
      "Epoch 88/100\n",
      "144/144 [==============================] - 12s 82ms/step - loss: 0.0103 - accuracy: 0.9870 - mse: 0.0103 - val_loss: 0.2153 - val_accuracy: 0.7678 - val_mse: 0.2153\n",
      "Epoch 89/100\n",
      "144/144 [==============================] - 11s 77ms/step - loss: 0.0106 - accuracy: 0.9865 - mse: 0.0106 - val_loss: 0.2081 - val_accuracy: 0.7727 - val_mse: 0.2081\n",
      "Epoch 90/100\n",
      "144/144 [==============================] - 11s 77ms/step - loss: 0.0105 - accuracy: 0.9870 - mse: 0.0105 - val_loss: 0.2139 - val_accuracy: 0.7689 - val_mse: 0.2139\n",
      "Epoch 91/100\n",
      "144/144 [==============================] - 11s 77ms/step - loss: 0.0119 - accuracy: 0.9851 - mse: 0.0119 - val_loss: 0.2126 - val_accuracy: 0.7686 - val_mse: 0.2126\n",
      "Epoch 92/100\n",
      "144/144 [==============================] - 11s 78ms/step - loss: 0.0114 - accuracy: 0.9858 - mse: 0.0114 - val_loss: 0.2195 - val_accuracy: 0.7640 - val_mse: 0.2195\n",
      "Epoch 93/100\n",
      "144/144 [==============================] - 11s 79ms/step - loss: 0.0122 - accuracy: 0.9846 - mse: 0.0122 - val_loss: 0.2151 - val_accuracy: 0.7671 - val_mse: 0.2151\n",
      "Epoch 94/100\n",
      "144/144 [==============================] - 11s 78ms/step - loss: 0.0096 - accuracy: 0.9885 - mse: 0.0096 - val_loss: 0.2188 - val_accuracy: 0.7589 - val_mse: 0.2188\n",
      "Epoch 95/100\n",
      "144/144 [==============================] - 11s 77ms/step - loss: 0.0105 - accuracy: 0.9868 - mse: 0.0105 - val_loss: 0.2059 - val_accuracy: 0.7783 - val_mse: 0.2059\n",
      "Epoch 96/100\n",
      "144/144 [==============================] - 11s 77ms/step - loss: 0.0109 - accuracy: 0.9861 - mse: 0.0109 - val_loss: 0.2151 - val_accuracy: 0.7706 - val_mse: 0.2151\n",
      "Epoch 97/100\n",
      "144/144 [==============================] - 11s 77ms/step - loss: 0.0116 - accuracy: 0.9853 - mse: 0.0116 - val_loss: 0.2074 - val_accuracy: 0.7763 - val_mse: 0.2074\n",
      "Epoch 98/100\n",
      "144/144 [==============================] - 11s 77ms/step - loss: 0.0100 - accuracy: 0.9873 - mse: 0.0100 - val_loss: 0.2169 - val_accuracy: 0.7630 - val_mse: 0.2169\n",
      "Epoch 99/100\n",
      "144/144 [==============================] - 11s 77ms/step - loss: 0.0105 - accuracy: 0.9866 - mse: 0.0105 - val_loss: 0.2146 - val_accuracy: 0.7660 - val_mse: 0.2146\n",
      "Epoch 100/100\n",
      "144/144 [==============================] - 11s 78ms/step - loss: 0.0096 - accuracy: 0.9883 - mse: 0.0096 - val_loss: 0.2169 - val_accuracy: 0.7653 - val_mse: 0.2169\n"
     ]
    },
    {
     "data": {
      "text/plain": [
       "<keras.callbacks.History at 0x1b996e79ac0>"
      ]
     },
     "execution_count": 13,
     "metadata": {},
     "output_type": "execute_result"
    }
   ],
   "source": [
    "model_siamese.fit([X1, X2], Y, batch_size=250, epochs=epochs, validation_split=0.15, callbacks=[checkpoint])"
   ]
  },
  {
   "cell_type": "code",
   "execution_count": 17,
   "id": "797afb2e-1235-47ec-b25a-11449ee1d7a0",
   "metadata": {},
   "outputs": [
    {
     "ename": "InternalError",
     "evalue": "Failed copying input tensor from /job:localhost/replica:0/task:0/device:CPU:0 to /job:localhost/replica:0/task:0/device:GPU:0 in order to run _EagerConst: Dst tensor is not initialized.",
     "output_type": "error",
     "traceback": [
      "\u001b[1;31m---------------------------------------------------------------------------\u001b[0m",
      "\u001b[1;31mInternalError\u001b[0m                             Traceback (most recent call last)",
      "Cell \u001b[1;32mIn[17], line 1\u001b[0m\n\u001b[1;32m----> 1\u001b[0m results \u001b[38;5;241m=\u001b[39m \u001b[43mmodel_siamese\u001b[49m\u001b[38;5;241;43m.\u001b[39;49m\u001b[43mevaluate\u001b[49m\u001b[43m(\u001b[49m\u001b[43m[\u001b[49m\u001b[43mvalid_X1\u001b[49m\u001b[43m,\u001b[49m\u001b[43m \u001b[49m\u001b[43mvalid_X2\u001b[49m\u001b[43m]\u001b[49m\u001b[43m,\u001b[49m\u001b[43m \u001b[49m\u001b[43mvalid_Y\u001b[49m\u001b[43m,\u001b[49m\u001b[43m \u001b[49m\u001b[43mbatch_size\u001b[49m\u001b[38;5;241;43m=\u001b[39;49m\u001b[38;5;241;43m1\u001b[39;49m\u001b[43m)\u001b[49m\n",
      "File \u001b[1;32m~\\anaconda3\\envs\\tf\\lib\\site-packages\\keras\\utils\\traceback_utils.py:67\u001b[0m, in \u001b[0;36mfilter_traceback.<locals>.error_handler\u001b[1;34m(*args, **kwargs)\u001b[0m\n\u001b[0;32m     65\u001b[0m \u001b[38;5;28;01mexcept\u001b[39;00m \u001b[38;5;167;01mException\u001b[39;00m \u001b[38;5;28;01mas\u001b[39;00m e:  \u001b[38;5;66;03m# pylint: disable=broad-except\u001b[39;00m\n\u001b[0;32m     66\u001b[0m   filtered_tb \u001b[38;5;241m=\u001b[39m _process_traceback_frames(e\u001b[38;5;241m.\u001b[39m__traceback__)\n\u001b[1;32m---> 67\u001b[0m   \u001b[38;5;28;01mraise\u001b[39;00m e\u001b[38;5;241m.\u001b[39mwith_traceback(filtered_tb) \u001b[38;5;28;01mfrom\u001b[39;00m \u001b[38;5;28;01mNone\u001b[39;00m\n\u001b[0;32m     68\u001b[0m \u001b[38;5;28;01mfinally\u001b[39;00m:\n\u001b[0;32m     69\u001b[0m   \u001b[38;5;28;01mdel\u001b[39;00m filtered_tb\n",
      "File \u001b[1;32m~\\anaconda3\\envs\\tf\\lib\\site-packages\\tensorflow\\python\\framework\\constant_op.py:102\u001b[0m, in \u001b[0;36mconvert_to_eager_tensor\u001b[1;34m(value, ctx, dtype)\u001b[0m\n\u001b[0;32m    100\u001b[0m     dtype \u001b[38;5;241m=\u001b[39m dtypes\u001b[38;5;241m.\u001b[39mas_dtype(dtype)\u001b[38;5;241m.\u001b[39mas_datatype_enum\n\u001b[0;32m    101\u001b[0m ctx\u001b[38;5;241m.\u001b[39mensure_initialized()\n\u001b[1;32m--> 102\u001b[0m \u001b[38;5;28;01mreturn\u001b[39;00m \u001b[43mops\u001b[49m\u001b[38;5;241;43m.\u001b[39;49m\u001b[43mEagerTensor\u001b[49m\u001b[43m(\u001b[49m\u001b[43mvalue\u001b[49m\u001b[43m,\u001b[49m\u001b[43m \u001b[49m\u001b[43mctx\u001b[49m\u001b[38;5;241;43m.\u001b[39;49m\u001b[43mdevice_name\u001b[49m\u001b[43m,\u001b[49m\u001b[43m \u001b[49m\u001b[43mdtype\u001b[49m\u001b[43m)\u001b[49m\n",
      "\u001b[1;31mInternalError\u001b[0m: Failed copying input tensor from /job:localhost/replica:0/task:0/device:CPU:0 to /job:localhost/replica:0/task:0/device:GPU:0 in order to run _EagerConst: Dst tensor is not initialized."
     ]
    }
   ],
   "source": [
    "results = model_siamese.evaluate([valid_X1, valid_X2], valid_Y, batch_size=1)"
   ]
  },
  {
   "cell_type": "code",
   "execution_count": null,
   "id": "90feb2a1-0054-4b24-b611-411b0fedc1fc",
   "metadata": {},
   "outputs": [],
   "source": [
    "predictions = model_siamese.predict([valid_X1, valid_X2])\n",
    "predicted_classes = (predictions > 0.5).astype(int)"
   ]
  },
  {
   "cell_type": "code",
   "execution_count": null,
   "id": "97f36642-5027-44ee-bdbe-bd04d9a97050",
   "metadata": {},
   "outputs": [],
   "source": []
  },
  {
   "cell_type": "code",
   "execution_count": null,
   "id": "1c835b32-8139-4076-a0ec-7261f1043fa5",
   "metadata": {},
   "outputs": [],
   "source": [
    "cm = confusion_matrix(valid_Y, predicted_classes)\n",
    "ConfusionMatrixDisplay(confusion_matrix=cm).plot(cmap='Blues')\n",
    "plt.show()"
   ]
  },
  {
   "cell_type": "code",
   "execution_count": null,
   "id": "5d2c60e2-3cbf-4a55-8826-bb1710e01327",
   "metadata": {},
   "outputs": [],
   "source": []
  },
  {
   "cell_type": "code",
   "execution_count": 10,
   "id": "91e5a77d-9f21-4af0-a3d2-c3fd5e954e09",
   "metadata": {},
   "outputs": [],
   "source": [
    "with open('embeddings_100.pkl', 'rb') as file:\n",
    "    weights = pickle.load(file)\n",
    "word2idx = {}\n",
    "with open('word2idx.pkl', 'rb') as file:\n",
    "    word2idx = pickle.load(file)"
   ]
  },
  {
   "cell_type": "code",
   "execution_count": 11,
   "id": "f6be3138-d327-4802-81ea-2a71fcd2ddb0",
   "metadata": {},
   "outputs": [
    {
     "name": "stdout",
     "output_type": "stream",
     "text": [
      "Creating data:\n"
     ]
    },
    {
     "name": "stderr",
     "output_type": "stream",
     "text": [
      "100%|████████████████████████████████████████████████████████████████████████████████| 841/841 [00:27<00:00, 30.92it/s]"
     ]
    },
    {
     "name": "stdout",
     "output_type": "stream",
     "text": [
      "Converting lists to numpy arrays:\n",
      "Success\n"
     ]
    },
    {
     "name": "stderr",
     "output_type": "stream",
     "text": [
      "\n"
     ]
    }
   ],
   "source": [
    "file_path = '../data_scraping/04.04.2024'\n",
    "files_extension = 'csv'\n",
    "data_percent = 10\n",
    "X1, X2, Y = create_data(file_path, files_extension, data_percent)"
   ]
  },
  {
   "cell_type": "code",
   "execution_count": 12,
   "id": "77593ff3-663f-4edc-8907-3ecdca13482d",
   "metadata": {},
   "outputs": [],
   "source": [
    "X1 = pad_sequences(X1, dtype='float32', padding='post', value=0.0)\n",
    "X2 = pad_sequences(X2, dtype='float32', padding='post', value=0.0)\n",
    "Y = np.array(Y, dtype='float32')\n",
    "\n",
    "data_cut = X1.shape[0]\n",
    "valid_data = int(0.1 * data_cut)\n",
    "train_data = data_cut - valid_data\n",
    "\n",
    "valid_X1 = X1[train_data:data_cut]\n",
    "valid_X2 = X2[train_data:data_cut]\n",
    "valid_Y = Y[train_data:data_cut]\n",
    "\n",
    "X1 = X1[:train_data]\n",
    "X2 = X2[:train_data]\n",
    "Y = Y[:train_data]"
   ]
  },
  {
   "cell_type": "code",
   "execution_count": 13,
   "id": "f7e1fb9e-fcdf-4931-a4a0-89d719102893",
   "metadata": {},
   "outputs": [],
   "source": [
    "# Ścieżka do zapisanego modelu\n",
    "checkpoint_path = f'cpLSTM/2024-06-12_180454/100.h5'\n",
    "\n",
    "# Wczytywanie modelu\n",
    "model_siamese = load_model(checkpoint_path)"
   ]
  },
  {
   "cell_type": "code",
   "execution_count": 14,
   "id": "4fd67bf6-61e1-4a9f-9853-028481e17581",
   "metadata": {},
   "outputs": [
    {
     "name": "stdout",
     "output_type": "stream",
     "text": [
      "4698/4698 [==============================] - 88s 18ms/step - loss: 0.2161 - accuracy: 0.7652 - mse: 0.2161\n",
      "Loss: 0.2161106914281845, Accuracy: 0.7652192711830139, MSE: 0.2161106914281845\n"
     ]
    }
   ],
   "source": [
    "results = model_siamese.evaluate([valid_X1, valid_X2], valid_Y, batch_size=320)\n",
    "# print(f\"Loss: {results[0]}, Accuracy: {results[1]}, MSE: {results[2]}\")"
   ]
  },
  {
   "cell_type": "code",
   "execution_count": 15,
   "id": "0f82387f-0975-4889-b7e0-1f91a3eb892e",
   "metadata": {},
   "outputs": [
    {
     "name": "stdout",
     "output_type": "stream",
     "text": [
      "147/147 [==============================] - 5s 23ms/step\n"
     ]
    }
   ],
   "source": [
    "predictions = model_siamese.predict([valid_X1, valid_X2])\n",
    "predicted_classes = (predictions > 0.5).astype(int)"
   ]
  },
  {
   "cell_type": "code",
   "execution_count": 16,
   "id": "e1a3d5c7-c1b5-417d-9a0f-1a797d4d643b",
   "metadata": {},
   "outputs": [
    {
     "data": {
      "image/png": "[encoded data removed]",
      "text/plain": [
       "<Figure size 640x480 with 2 Axes>"
      ]
     },
     "metadata": {},
     "output_type": "display_data"
    }
   ],
   "source": [
    "cm = confusion_matrix(valid_Y, predicted_classes)\n",
    "ConfusionMatrixDisplay(confusion_matrix=cm).plot(cmap='Blues')\n",
    "plt.show()"
   ]
  },
  {
   "cell_type": "code",
   "execution_count": null,
   "id": "a190d1ff-5ecf-4cbb-8911-2544b7c1268d",
   "metadata": {},
   "outputs": [],
   "source": []
  }
 ],
 "metadata": {
  "kernelspec": {
   "display_name": "Python 3 (ipykernel)",
   "language": "python",
   "name": "python3"
  },
  "language_info": {
   "codemirror_mode": {
    "name": "ipython",
    "version": 3
   },
   "file_extension": ".py",
   "mimetype": "text/x-python",
   "name": "python",
   "nbconvert_exporter": "python",
   "pygments_lexer": "ipython3",
   "version": "3.9.19"
  }
 },
 "nbformat": 4,
 "nbformat_minor": 5
}
