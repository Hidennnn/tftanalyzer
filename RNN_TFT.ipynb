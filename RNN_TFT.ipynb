{
 "cells": [
  {
   "cell_type": "code",
   "execution_count": 1,
   "id": "21dccaff-7503-43b3-8e34-37ebe0974ac4",
   "metadata": {},
   "outputs": [],
   "source": [
    "import numpy as np\n",
    "from keras.datasets import imdb\n",
    "from tensorflow.python.keras.models import Model, load_model, Sequential\n",
    "from tensorflow.python.keras.layers import LSTM, Dense, Embedding, Input, Dot, Flatten, Layer, Lambda\n",
    "from keras_preprocessing.sequence import pad_sequences\n",
    "from tensorflow.python.keras.callbacks import ModelCheckpoint\n",
    "import tensorflow as tf\n",
    "from keras.layers import BatchNormalization\n",
    "from sklearn.model_selection import train_test_split\n",
    "import pandas as pd\n",
    "import pickle\n",
    "import re\n",
    "import os\n",
    "from keras.utils import to_categorical\n",
    "from datetime import datetime"
   ]
  },
  {
   "cell_type": "code",
   "execution_count": 2,
   "id": "ddfdcc28-4da1-4c1c-9dcb-8b13007e84ee",
   "metadata": {},
   "outputs": [],
   "source": [
    "physical_devices = tf.config.experimental.list_physical_devices('GPU')\n",
    "tf.config.experimental.set_memory_growth(physical_devices[0], True)"
   ]
  },
  {
   "cell_type": "code",
   "execution_count": 3,
   "id": "ac4bd539-f715-416e-82b5-0244a2d9b389",
   "metadata": {},
   "outputs": [],
   "source": [
    "placement_weights = np.array([1, 0.875, 0.75, 0.625, 0.375, 0.25, 0.125, 0])"
   ]
  },
  {
   "cell_type": "code",
   "execution_count": 4,
   "id": "18743737-fd1b-44b3-8a75-b98218707db5",
   "metadata": {},
   "outputs": [],
   "source": [
    "with open('embeddings_100.pkl', 'rb') as file:\n",
    "    weights = pickle.load(file)\n",
    "word2idx = {}\n",
    "with open('word2idx.pkl', 'rb') as file:\n",
    "    word2idx = pickle.load(file)"
   ]
  },
  {
   "cell_type": "code",
   "execution_count": 5,
   "id": "dc606853-8a86-4e8d-ab47-b34137c0a534",
   "metadata": {},
   "outputs": [],
   "source": [
    "sentences = []\n",
    "with open('teams.txt', 'r') as file:\n",
    "    for line in file:\n",
    "        sentences.append(line.strip().split())"
   ]
  },
  {
   "cell_type": "code",
   "execution_count": 7,
   "id": "59843737-ae14-4a0f-9b0f-4b9049c1f364",
   "metadata": {},
   "outputs": [],
   "source": [
    "maxWords = 0\n",
    "for i in range(len(sentences)):\n",
    "    if maxWords < len(sentences[i]):\n",
    "        maxWords = len(sentences[i])"
   ]
  },
  {
   "cell_type": "code",
   "execution_count": 8,
   "id": "6372b294-6ea4-48c7-891e-e40298c9151b",
   "metadata": {},
   "outputs": [],
   "source": [
    "X = np.zeros((len(sentences), maxWords - 1, 100))\n",
    "Y = np.zeros((len(sentences)))\n",
    "for i in range(len(sentences)):\n",
    "    for j in range(len(sentences[i])):\n",
    "        if sentences[i][j] == 'nan':\n",
    "            X[i][j] = np.zeros((100,))\n",
    "        else:\n",
    "            if j == len(sentences[i]) - 1:\n",
    "                Y[i] = placement_weights[int(sentences[i][j]) - 1]\n",
    "            else:\n",
    "                if str(sentences[i][j]).isdigit():\n",
    "                    X[i][j] = np.ones((100,)) * int(sentences[i][j])\n",
    "                else:\n",
    "                    X[i][j] = weights[word2idx[sentences[i][j]] - 1]"
   ]
  },
  {
   "cell_type": "code",
   "execution_count": 9,
   "id": "23989851-03c7-43f6-8b26-ec63ecf21650",
   "metadata": {},
   "outputs": [],
   "source": [
    "X_train, X_rest, Y_train, Y_rest = train_test_split(X, Y, test_size=0.1, random_state=42)\n",
    "X_test, X_val, Y_test, Y_val = train_test_split(X_rest, Y_rest, test_size=0.5, random_state=42)"
   ]
  },
  {
   "cell_type": "code",
   "execution_count": 11,
   "id": "4b353e75-e953-412b-96d7-593049a5a5ae",
   "metadata": {},
   "outputs": [],
   "source": [
    "rnn_model = Sequential()\n",
    "rnn_model.add(LSTM(200, dropout=0.5, recurrent_dropout=0.5))\n",
    "rnn_model.add(Dense(1024, activation='relu'))\n",
    "rnn_model.add(Dense(512, activation='relu'))\n",
    "rnn_model.add(Dense(256, activation='relu'))\n",
    "rnn_model.add(Dense(128, activation='relu'))\n",
    "rnn_model.add(Dense(64, activation='relu'))\n",
    "rnn_model.add(Dense(32, activation='relu'))\n",
    "rnn_model.add(Dense(16, activation='relu'))\n",
    "rnn_model.add(Dense(1))\n",
    "\n",
    "rnn_model.compile(loss='mean_squared_error', optimizer='adam', metrics=['mse', 'accuracy'])\n",
    "\n",
    "checkpoint = []\n",
    "date = ('_' + str(datetime.now().day) + '-' + str(datetime.now().month) + '-' + str(datetime.now().year) + '_' +\n",
    "        str(datetime.now().hour) + '-' + str(datetime.now().minute).zfill(2))\n",
    "checkpoint.append(ModelCheckpoint(filepath='rnn_tft_val_mse_' + date + '.h5',\n",
    "                             monitor='val_mse',\n",
    "                             verbose=1,\n",
    "                             save_best_only=True\n",
    "                             ))\n",
    "checkpoint.append(ModelCheckpoint(filepath='rnn_tft_val_loss_' + date + '.h5',\n",
    "                             monitor='val_loss',\n",
    "                             verbose=1,\n",
    "                             save_best_only=True\n",
    "                             ))"
   ]
  },
  {
   "cell_type": "code",
   "execution_count": 13,
   "id": "9370c35d-ccea-457b-a0a7-3249c5384d2f",
   "metadata": {},
   "outputs": [
    {
     "name": "stdout",
     "output_type": "stream",
     "text": [
      "Epoch 1/30\n",
      "15/15 [==============================] - 89s 6s/step - loss: 0.2056 - mse: 0.2056 - accuracy: 0.1352 - val_loss: 0.1260 - val_mse: 0.1260 - val_accuracy: 0.1191\n",
      "\n",
      "Epoch 00001: val_mse improved from inf to 0.12600, saving model to rnn_tft_val_mse__8-5-2024_4-05.h5\n",
      "\n",
      "Epoch 00001: val_loss improved from inf to 0.12600, saving model to rnn_tft_val_loss__8-5-2024_4-05.h5\n",
      "Epoch 2/30\n",
      "15/15 [==============================] - 90s 6s/step - loss: 0.1204 - mse: 0.1204 - accuracy: 0.1262 - val_loss: 0.1177 - val_mse: 0.1177 - val_accuracy: 0.1257\n",
      "\n",
      "Epoch 00002: val_mse improved from 0.12600 to 0.11765, saving model to rnn_tft_val_mse__8-5-2024_4-05.h5\n",
      "\n",
      "Epoch 00002: val_loss improved from 0.12600 to 0.11765, saving model to rnn_tft_val_loss__8-5-2024_4-05.h5\n",
      "Epoch 3/30\n",
      "15/15 [==============================] - 96s 6s/step - loss: 0.1111 - mse: 0.1111 - accuracy: 0.1551 - val_loss: 0.1018 - val_mse: 0.1018 - val_accuracy: 0.1958\n",
      "\n",
      "Epoch 00003: val_mse improved from 0.11765 to 0.10180, saving model to rnn_tft_val_mse__8-5-2024_4-05.h5\n",
      "\n",
      "Epoch 00003: val_loss improved from 0.11765 to 0.10180, saving model to rnn_tft_val_loss__8-5-2024_4-05.h5\n",
      "Epoch 4/30\n",
      "15/15 [==============================] - 91s 6s/step - loss: 0.0978 - mse: 0.0978 - accuracy: 0.1908 - val_loss: 0.0924 - val_mse: 0.0924 - val_accuracy: 0.1940\n",
      "\n",
      "Epoch 00004: val_mse improved from 0.10180 to 0.09245, saving model to rnn_tft_val_mse__8-5-2024_4-05.h5\n",
      "\n",
      "Epoch 00004: val_loss improved from 0.10180 to 0.09245, saving model to rnn_tft_val_loss__8-5-2024_4-05.h5\n",
      "Epoch 5/30\n",
      "15/15 [==============================] - 96s 6s/step - loss: 0.0873 - mse: 0.0873 - accuracy: 0.2076 - val_loss: 0.1156 - val_mse: 0.1156 - val_accuracy: 0.1711\n",
      "\n",
      "Epoch 00005: val_mse did not improve from 0.09245\n",
      "\n",
      "Epoch 00005: val_loss did not improve from 0.09245\n",
      "Epoch 6/30\n",
      "15/15 [==============================] - 97s 6s/step - loss: 0.0732 - mse: 0.0732 - accuracy: 0.2215 - val_loss: 0.1081 - val_mse: 0.1081 - val_accuracy: 0.2002\n",
      "\n",
      "Epoch 00006: val_mse did not improve from 0.09245\n",
      "\n",
      "Epoch 00006: val_loss did not improve from 0.09245\n",
      "Epoch 7/30\n",
      "15/15 [==============================] - 94s 6s/step - loss: 0.0643 - mse: 0.0643 - accuracy: 0.2290 - val_loss: 0.1117 - val_mse: 0.1117 - val_accuracy: 0.1993\n",
      "\n",
      "Epoch 00007: val_mse did not improve from 0.09245\n",
      "\n",
      "Epoch 00007: val_loss did not improve from 0.09245\n",
      "Epoch 8/30\n",
      "15/15 [==============================] - 91s 6s/step - loss: 0.0622 - mse: 0.0622 - accuracy: 0.2303 - val_loss: 0.1263 - val_mse: 0.1263 - val_accuracy: 0.1904\n",
      "\n",
      "Epoch 00008: val_mse did not improve from 0.09245\n",
      "\n",
      "Epoch 00008: val_loss did not improve from 0.09245\n",
      "Epoch 9/30\n",
      "15/15 [==============================] - 94s 6s/step - loss: 0.0598 - mse: 0.0598 - accuracy: 0.2329 - val_loss: 0.1138 - val_mse: 0.1138 - val_accuracy: 0.2026\n",
      "\n",
      "Epoch 00009: val_mse did not improve from 0.09245\n",
      "\n",
      "Epoch 00009: val_loss did not improve from 0.09245\n",
      "Epoch 10/30\n",
      "15/15 [==============================] - 93s 6s/step - loss: 0.0587 - mse: 0.0587 - accuracy: 0.2334 - val_loss: 0.1156 - val_mse: 0.1156 - val_accuracy: 0.2023\n",
      "\n",
      "Epoch 00010: val_mse did not improve from 0.09245\n",
      "\n",
      "Epoch 00010: val_loss did not improve from 0.09245\n",
      "Epoch 11/30\n",
      "15/15 [==============================] - 94s 6s/step - loss: 0.0577 - mse: 0.0577 - accuracy: 0.2347 - val_loss: 0.1129 - val_mse: 0.1129 - val_accuracy: 0.2032\n",
      "\n",
      "Epoch 00011: val_mse did not improve from 0.09245\n",
      "\n",
      "Epoch 00011: val_loss did not improve from 0.09245\n",
      "Epoch 12/30\n",
      "15/15 [==============================] - 106s 7s/step - loss: 0.0569 - mse: 0.0569 - accuracy: 0.2346 - val_loss: 0.1060 - val_mse: 0.1060 - val_accuracy: 0.2038\n",
      "\n",
      "Epoch 00012: val_mse did not improve from 0.09245\n",
      "\n",
      "Epoch 00012: val_loss did not improve from 0.09245\n",
      "Epoch 13/30\n",
      "15/15 [==============================] - 99s 7s/step - loss: 0.0561 - mse: 0.0561 - accuracy: 0.2352 - val_loss: 0.1014 - val_mse: 0.1014 - val_accuracy: 0.2089\n",
      "\n",
      "Epoch 00013: val_mse did not improve from 0.09245\n",
      "\n",
      "Epoch 00013: val_loss did not improve from 0.09245\n",
      "Epoch 14/30\n",
      "15/15 [==============================] - 96s 6s/step - loss: 0.0558 - mse: 0.0558 - accuracy: 0.2356 - val_loss: 0.1030 - val_mse: 0.1030 - val_accuracy: 0.2077\n",
      "\n",
      "Epoch 00014: val_mse did not improve from 0.09245\n",
      "\n",
      "Epoch 00014: val_loss did not improve from 0.09245\n",
      "Epoch 15/30\n",
      "15/15 [==============================] - 109s 7s/step - loss: 0.0564 - mse: 0.0564 - accuracy: 0.2346 - val_loss: 0.1337 - val_mse: 0.1337 - val_accuracy: 0.2008\n",
      "\n",
      "Epoch 00015: val_mse did not improve from 0.09245\n",
      "\n",
      "Epoch 00015: val_loss did not improve from 0.09245\n",
      "Epoch 16/30\n",
      "15/15 [==============================] - 117s 8s/step - loss: 0.0577 - mse: 0.0577 - accuracy: 0.2336 - val_loss: 0.0664 - val_mse: 0.0664 - val_accuracy: 0.2270\n",
      "\n",
      "Epoch 00016: val_mse improved from 0.09245 to 0.06641, saving model to rnn_tft_val_mse__8-5-2024_4-05.h5\n",
      "\n",
      "Epoch 00016: val_loss improved from 0.09245 to 0.06641, saving model to rnn_tft_val_loss__8-5-2024_4-05.h5\n",
      "Epoch 17/30\n",
      "15/15 [==============================] - 110s 7s/step - loss: 0.0566 - mse: 0.0566 - accuracy: 0.2353 - val_loss: 0.0745 - val_mse: 0.0745 - val_accuracy: 0.2258\n",
      "\n",
      "Epoch 00017: val_mse did not improve from 0.06641\n",
      "\n",
      "Epoch 00017: val_loss did not improve from 0.06641\n",
      "Epoch 18/30\n",
      "15/15 [==============================] - 98s 7s/step - loss: 0.0546 - mse: 0.0546 - accuracy: 0.2366 - val_loss: 0.0773 - val_mse: 0.0773 - val_accuracy: 0.2231\n",
      "\n",
      "Epoch 00018: val_mse did not improve from 0.06641\n",
      "\n",
      "Epoch 00018: val_loss did not improve from 0.06641\n",
      "Epoch 19/30\n",
      "15/15 [==============================] - 94s 6s/step - loss: 0.0543 - mse: 0.0543 - accuracy: 0.2362 - val_loss: 0.1030 - val_mse: 0.1030 - val_accuracy: 0.2133\n",
      "\n",
      "Epoch 00019: val_mse did not improve from 0.06641\n",
      "\n",
      "Epoch 00019: val_loss did not improve from 0.06641\n",
      "Epoch 20/30\n",
      "15/15 [==============================] - 94s 6s/step - loss: 0.0539 - mse: 0.0539 - accuracy: 0.2369 - val_loss: 0.0910 - val_mse: 0.0910 - val_accuracy: 0.2187\n",
      "\n",
      "Epoch 00020: val_mse did not improve from 0.06641\n",
      "\n",
      "Epoch 00020: val_loss did not improve from 0.06641\n",
      "Epoch 21/30\n",
      "15/15 [==============================] - 118s 8s/step - loss: 0.0543 - mse: 0.0543 - accuracy: 0.2363 - val_loss: 0.0900 - val_mse: 0.0900 - val_accuracy: 0.2184\n",
      "\n",
      "Epoch 00021: val_mse did not improve from 0.06641\n",
      "\n",
      "Epoch 00021: val_loss did not improve from 0.06641\n",
      "Epoch 22/30\n",
      "15/15 [==============================] - 128s 8s/step - loss: 0.0530 - mse: 0.0530 - accuracy: 0.2372 - val_loss: 0.0816 - val_mse: 0.0816 - val_accuracy: 0.2225\n",
      "\n",
      "Epoch 00022: val_mse did not improve from 0.06641\n",
      "\n",
      "Epoch 00022: val_loss did not improve from 0.06641\n",
      "Epoch 23/30\n",
      "15/15 [==============================] - 107s 7s/step - loss: 0.0527 - mse: 0.0527 - accuracy: 0.2371 - val_loss: 0.0767 - val_mse: 0.0767 - val_accuracy: 0.2237\n",
      "\n",
      "Epoch 00023: val_mse did not improve from 0.06641\n",
      "\n",
      "Epoch 00023: val_loss did not improve from 0.06641\n",
      "Epoch 24/30\n",
      "15/15 [==============================] - 105s 7s/step - loss: 0.0531 - mse: 0.0531 - accuracy: 0.2368 - val_loss: 0.0774 - val_mse: 0.0774 - val_accuracy: 0.2258\n",
      "\n",
      "Epoch 00024: val_mse did not improve from 0.06641\n",
      "\n",
      "Epoch 00024: val_loss did not improve from 0.06641\n",
      "Epoch 25/30\n",
      "15/15 [==============================] - 120s 8s/step - loss: 0.0525 - mse: 0.0525 - accuracy: 0.2381 - val_loss: 0.1057 - val_mse: 0.1057 - val_accuracy: 0.2133\n",
      "\n",
      "Epoch 00025: val_mse did not improve from 0.06641\n",
      "\n",
      "Epoch 00025: val_loss did not improve from 0.06641\n",
      "Epoch 26/30\n",
      "15/15 [==============================] - 119s 8s/step - loss: 0.0530 - mse: 0.0530 - accuracy: 0.2373 - val_loss: 0.0928 - val_mse: 0.0928 - val_accuracy: 0.2181\n",
      "\n",
      "Epoch 00026: val_mse did not improve from 0.06641\n",
      "\n",
      "Epoch 00026: val_loss did not improve from 0.06641\n",
      "Epoch 27/30\n",
      "15/15 [==============================] - 128s 9s/step - loss: 0.0523 - mse: 0.0523 - accuracy: 0.2376 - val_loss: 0.0783 - val_mse: 0.0783 - val_accuracy: 0.2243\n",
      "\n",
      "Epoch 00027: val_mse did not improve from 0.06641\n",
      "\n",
      "Epoch 00027: val_loss did not improve from 0.06641\n",
      "Epoch 28/30\n",
      "15/15 [==============================] - 118s 8s/step - loss: 0.0525 - mse: 0.0525 - accuracy: 0.2375 - val_loss: 0.0807 - val_mse: 0.0807 - val_accuracy: 0.2267\n",
      "\n",
      "Epoch 00028: val_mse did not improve from 0.06641\n",
      "\n",
      "Epoch 00028: val_loss did not improve from 0.06641\n",
      "Epoch 29/30\n",
      "15/15 [==============================] - 140s 10s/step - loss: 0.0516 - mse: 0.0516 - accuracy: 0.2379 - val_loss: 0.0774 - val_mse: 0.0774 - val_accuracy: 0.2267\n",
      "\n",
      "Epoch 00029: val_mse did not improve from 0.06641\n",
      "\n",
      "Epoch 00029: val_loss did not improve from 0.06641\n",
      "Epoch 30/30\n",
      "15/15 [==============================] - 105s 7s/step - loss: 0.0517 - mse: 0.0517 - accuracy: 0.2383 - val_loss: 0.0925 - val_mse: 0.0925 - val_accuracy: 0.2195\n",
      "\n",
      "Epoch 00030: val_mse did not improve from 0.06641\n",
      "\n",
      "Epoch 00030: val_loss did not improve from 0.06641\n"
     ]
    },
    {
     "data": {
      "text/plain": [
       "<tensorflow.python.keras.callbacks.History at 0x1fd40ed53d0>"
      ]
     },
     "execution_count": 13,
     "metadata": {},
     "output_type": "execute_result"
    }
   ],
   "source": [
    "rnn_model.fit(X_train, Y_train, validation_data=(X_val, Y_val), epochs=30, batch_size=4096, callbacks=checkpoint)"
   ]
  },
  {
   "cell_type": "code",
   "execution_count": 11,
   "id": "bfb2828e-352b-4574-b7eb-7f484fba5701",
   "metadata": {},
   "outputs": [
    {
     "name": "stdout",
     "output_type": "stream",
     "text": [
      "106/106 [==============================] - 3s 31ms/step - loss: 0.0706 - mse: 0.0706 - accuracy: 0.2342\n"
     ]
    },
    {
     "data": {
      "text/plain": [
       "[0.07061946392059326, 0.07061946392059326, 0.23417533934116364]"
      ]
     },
     "execution_count": 11,
     "metadata": {},
     "output_type": "execute_result"
    }
   ],
   "source": [
    "rnn_model.evaluate(X_test, Y_test, verbose=1)"
   ]
  },
  {
   "cell_type": "code",
   "execution_count": 51,
   "id": "51ec6b1a-df89-4d2a-b1ce-1622f79e183a",
   "metadata": {},
   "outputs": [],
   "source": [
    "worse_team = 'TFT11_Malphite 2 nan nan nan TFT11_KhaZix 2 nan nan nan TFT11_Kindred 2 TFT11_Item_HeavenlyEmblemItem nan nan TFT11_Neeko 2 TFT_Item_SpectralGauntlet TFT_Item_Crownguard nan TFT11_Qiyana 2 nan nan nan TFT11_Soraka 2 TFT_Item_Morellonomicon TFT_Item_GuinsoosRageblade nan TFT11_Yone 3 TFT_Item_UnstableConcoction TFT_Item_Bloodthirster TFT_Item_TitansResolve TFT11_Tristana 1 nan nan nan TFT11_Kayn 2 TFT_Item_Deathblade TFT_Item_Bloodthirster TFT_Item_UnstableConcoction TFT11_Augment_HeavenlyCrest TFT9_Augment_YouHaveMySword TFT9_Augment_BigGrabBag'"
   ]
  },
  {
   "cell_type": "code",
   "execution_count": 52,
   "id": "89abe237-433e-4a4f-85b6-f8bff4ca10c6",
   "metadata": {},
   "outputs": [],
   "source": [
    "worse_team = worse_team.split()\n",
    "vector = np.zeros((1,len(worse_team), 100))\n",
    "for i in range(len(worse_team)):\n",
    "    if worse_team[i] == 'nan':\n",
    "        vector[0][i] = np.zeros((100,))\n",
    "    elif worse_team[i].isdigit():\n",
    "        vector[0][i] = np.ones((100,)) * int(worse_team[i])\n",
    "    else:\n",
    "        vector[0][i] = weights[word2idx[worse_team[i]] - 1]"
   ]
  },
  {
   "cell_type": "code",
   "execution_count": 53,
   "id": "71682287-6a23-417b-8c54-c1f71dadbbf7",
   "metadata": {},
   "outputs": [
    {
     "data": {
      "text/plain": [
       "array([[0.35351145]], dtype=float32)"
      ]
     },
     "execution_count": 53,
     "metadata": {},
     "output_type": "execute_result"
    }
   ],
   "source": [
    "rnn_model.predict(vector)"
   ]
  },
  {
   "cell_type": "code",
   "execution_count": 24,
   "id": "210dd4c2-0dc3-42aa-a815-57c8dbe0465a",
   "metadata": {},
   "outputs": [],
   "source": [
    "team1 = 'TFT11_Caitlyn nan nan nan TFT11_Lux TFT_Item_RapidFireCannon TFT_Item_HextechGunblade nan TFT11_Shen nan nan nan TFT11_Ashe TFT_Item_GuinsoosRageblade TFT_Item_HextechGunblade TFT_Item_MadredsBloodrazor TFT11_Ornn TFT_Item_ThiefsGloves TFT_Item_PowerGauntlet TFT_Item_LastWhisper TFT11_Nautilus nan nan nan TFT11_Sett TFT_Item_AdaptiveHelm TFT_Item_Redemption nan TFT11_Lissandra TFT_Item_Leviathan TFT_Item_JeweledGauntlet TFT_Item_RecurveBow TFT11_Hwei nan nan nan TFT11_Augment_WanderingTrainerGold TFT9_Augment_Commander_Ascension TFT10_Augment_InspiringEpitaph'\n"
   ]
  },
  {
   "cell_type": "code",
   "execution_count": 25,
   "id": "4c4861f7-c9af-4c88-b0fe-e657be57ad93",
   "metadata": {},
   "outputs": [],
   "source": [
    "team1 = team1.split()\n",
    "vector = np.zeros((1,len(team1), 100))\n",
    "for i in range(len(team1)):\n",
    "    if team1[i] == 'nan':\n",
    "        vector[0][i] = np.zeros((100,))\n",
    "    else:\n",
    "        vector[0][i] = weights[word2idx[team1[i]] - 1]"
   ]
  },
  {
   "cell_type": "code",
   "execution_count": 26,
   "id": "a16a251a-093d-4f94-bdbd-5a967bfa551f",
   "metadata": {},
   "outputs": [
    {
     "data": {
      "text/plain": [
       "array([[1.0332756]], dtype=float32)"
      ]
     },
     "execution_count": 26,
     "metadata": {},
     "output_type": "execute_result"
    }
   ],
   "source": [
    "rnn_model.predict(vector)"
   ]
  },
  {
   "cell_type": "code",
   "execution_count": 18,
   "id": "18b39fd7-4a3a-439e-a637-d58f517bdf30",
   "metadata": {},
   "outputs": [],
   "source": [
    "team5 = 'TFT11_Caitlyn nan nan nan TFT11_Aatrox nan nan nan TFT11_Shen nan nan nan TFT11_Illaoi TFT_Item_Redemption TFT_Item_GargoyleStoneplate TFT_Item_WarmogsArmor TFT11_Morgana TFT_Item_SpearOfShojin TFT5_Item_ArchangelsStaffRadiant TFT_Item_HextechGunblade TFT11_Kayn nan nan nan TFT11_Sylas nan nan nan TFT11_Sett TFT_Item_GuinsoosRageblade TFT_Item_GuardianAngel nan TFT11_Irelia TFT_Item_RapidFireCannon TFT_Item_LastWhisper TFT_Item_InfinityEdge TFT7_Augment_BirthdayPresents TFT9_Augment_Harmacist2 TFT9_Augment_YoungAndWildAndFree'"
   ]
  },
  {
   "cell_type": "code",
   "execution_count": 19,
   "id": "1bf22cab-6584-4c8a-8c12-20fe59d9ca41",
   "metadata": {},
   "outputs": [],
   "source": [
    "team5 = team5.split()\n",
    "vector = np.zeros((1,len(team5), 100))\n",
    "for i in range(len(team5)):\n",
    "    if team5[i] == 'nan':\n",
    "        vector[0][i] = np.zeros((100,))\n",
    "    else:\n",
    "        vector[0][i] = weights[word2idx[team5[i]] - 1]"
   ]
  },
  {
   "cell_type": "code",
   "execution_count": 20,
   "id": "5f52194d-e0ed-4741-be87-d5d44291762d",
   "metadata": {},
   "outputs": [
    {
     "data": {
      "text/plain": [
       "array([[0.971196]], dtype=float32)"
      ]
     },
     "execution_count": 20,
     "metadata": {},
     "output_type": "execute_result"
    }
   ],
   "source": [
    "rnn_model.predict(vector)\n"
   ]
  },
  {
   "cell_type": "code",
   "execution_count": 6,
   "id": "8a653ad8-35e1-423a-9085-6c415e6f6d48",
   "metadata": {},
   "outputs": [
    {
     "data": {
      "text/plain": [
       "['TFT11_Caitlyn',\n",
       " '2',\n",
       " 'nan',\n",
       " 'nan',\n",
       " 'nan',\n",
       " 'TFT11_Jax',\n",
       " '1',\n",
       " 'nan',\n",
       " 'nan',\n",
       " 'nan',\n",
       " 'TFT11_Senna',\n",
       " '3',\n",
       " 'TFT5_Item_GuardianAngelRadiant',\n",
       " 'TFT_Item_HextechGunblade',\n",
       " 'TFT_Item_RapidFireCannon',\n",
       " 'TFT11_Shen',\n",
       " '2',\n",
       " 'nan',\n",
       " 'nan',\n",
       " 'nan',\n",
       " 'TFT11_Illaoi',\n",
       " '2',\n",
       " 'TFT_Item_IonicSpark',\n",
       " 'TFT_Item_FrozenHeart',\n",
       " 'TFT_Item_Crownguard',\n",
       " 'TFT11_Yone',\n",
       " '1',\n",
       " 'nan',\n",
       " 'nan',\n",
       " 'nan',\n",
       " 'TFT11_Morgana',\n",
       " '1',\n",
       " 'TFT_Item_AdaptiveHelm',\n",
       " 'nan',\n",
       " 'nan',\n",
       " 'TFT11_Kayn',\n",
       " '2',\n",
       " 'TFT_Item_UnstableConcoction',\n",
       " 'TFT_Item_GuardianAngel',\n",
       " 'nan',\n",
       " 'TFT6_Augment_TinyTitans',\n",
       " 'TFT10_Augment_CrashTestDummies',\n",
       " 'TFT9_Augment_HighEndSector',\n",
       " '8']"
      ]
     },
     "execution_count": 6,
     "metadata": {},
     "output_type": "execute_result"
    }
   ],
   "source": [
    "sentences[0]"
   ]
  },
  {
   "cell_type": "code",
   "execution_count": null,
   "id": "b2a2b2ae-5e9c-4d5b-ad6f-1e413ed328fd",
   "metadata": {},
   "outputs": [],
   "source": []
  }
 ],
 "metadata": {
  "kernelspec": {
   "display_name": "Python 3 (ipykernel)",
   "language": "python",
   "name": "python3"
  },
  "language_info": {
   "codemirror_mode": {
    "name": "ipython",
    "version": 3
   },
   "file_extension": ".py",
   "mimetype": "text/x-python",
   "name": "python",
   "nbconvert_exporter": "python",
   "pygments_lexer": "ipython3",
   "version": "3.9.18"
  }
 },
 "nbformat": 4,
 "nbformat_minor": 5
}
