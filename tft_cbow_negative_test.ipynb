{
 "cells": [
  {
   "cell_type": "code",
   "execution_count": 29,
   "id": "8729412d-2aa2-4856-b57a-49d3321bded7",
   "metadata": {},
   "outputs": [],
   "source": [
    "from tensorflow.python.keras.models import load_model\n",
    "import numpy as np\n",
    "import pickle"
   ]
  },
  {
   "cell_type": "code",
   "execution_count": 2,
   "id": "db12e20c-e551-4173-96a9-7aae8d4ff7a3",
   "metadata": {},
   "outputs": [],
   "source": [
    "model = load_model('checkpointy_tft_negative.h5')"
   ]
  },
  {
   "cell_type": "code",
   "execution_count": 18,
   "id": "5a49eec9-f24e-4ac5-a765-81e62be24656",
   "metadata": {},
   "outputs": [],
   "source": [
    "pairs = [['TFT11_Garen', 'TFT11_Riven'],\n",
    "         ['TFT11_Yasuo', 'TFT11_Ahri'],\n",
    "         ['TFT11_Volibear', 'TFT11_Tristana'],\n",
    "         ['TFT11_Caitlyn', 'TFT11_Illaoi'],\n",
    "         ['TFT11_Caitlyn', 'TFT11_Senna'],\n",
    "         ['TFT_Item_InfinityEdge', 'TFT_Item_GuinsoosRageblade'],\n",
    "         ['TFT_Item_BrambleVest', 'TFT_Item_DragonsClaw'],\n",
    "         ['TFT_Item_Bloodthirster', 'TFT_Item_TitansResolve'],\n",
    "         ['TFT_Item_WarmogsArmor', 'TFT_Item_DragonsClaw'],\n",
    "         ['TFT_Item_WarmogsArmor', 'TFT_Item_BrambleVest'],\n",
    "         ['TFT11_Bard', 'TFT_Item_GuinsoosRageblade'],\n",
    "         ['TFT11_Yone', 'TFT_Item_TitansResolve'],\n",
    "         ['TFT11_Galio', 'TFT_Item_WarmogsArmor']]"
   ]
  },
  {
   "cell_type": "code",
   "execution_count": 40,
   "id": "17c9dfb2-ea38-4d45-9c65-429d8b02a8f3",
   "metadata": {},
   "outputs": [],
   "source": [
    "word2idx = {}\n",
    "with open('word2idx.pkl', 'rb') as file:\n",
    "    word2idx = pickle.load(file)"
   ]
  },
  {
   "cell_type": "code",
   "execution_count": 41,
   "id": "d741b83a-db98-4cdf-913f-d9e3304c08b8",
   "metadata": {},
   "outputs": [],
   "source": [
    "outcome = []\n",
    "for i in range(len(pairs)):\n",
    "    outcome.append(model.predict([np.array([word2idx[pairs[i][0]]]), np.array([word2idx[pairs[i][1]]])]))"
   ]
  },
  {
   "cell_type": "code",
   "execution_count": 42,
   "id": "c00a198c-15d0-4808-9096-386b9e464a6b",
   "metadata": {},
   "outputs": [
    {
     "data": {
      "text/plain": [
       "[array([[0.2214134]], dtype=float32),\n",
       " array([[0.13933861]], dtype=float32),\n",
       " array([[-0.14216518]], dtype=float32),\n",
       " array([[0.15321493]], dtype=float32),\n",
       " array([[0.34933352]], dtype=float32),\n",
       " array([[0.5241101]], dtype=float32),\n",
       " array([[0.82593906]], dtype=float32),\n",
       " array([[1.1570297]], dtype=float32),\n",
       " array([[0.7419531]], dtype=float32),\n",
       " array([[0.6927216]], dtype=float32),\n",
       " array([[0.98204833]], dtype=float32),\n",
       " array([[0.5194949]], dtype=float32),\n",
       " array([[-0.3723874]], dtype=float32)]"
      ]
     },
     "execution_count": 42,
     "metadata": {},
     "output_type": "execute_result"
    }
   ],
   "source": [
    "outcome"
   ]
  },
  {
   "cell_type": "code",
   "execution_count": null,
   "id": "6f8ece18-e517-4c3d-894c-74ebd092500a",
   "metadata": {},
   "outputs": [],
   "source": []
  }
 ],
 "metadata": {
  "kernelspec": {
   "display_name": "Python 3 (ipykernel)",
   "language": "python",
   "name": "python3"
  },
  "language_info": {
   "codemirror_mode": {
    "name": "ipython",
    "version": 3
   },
   "file_extension": ".py",
   "mimetype": "text/x-python",
   "name": "python",
   "nbconvert_exporter": "python",
   "pygments_lexer": "ipython3",
   "version": "3.9.18"
  }
 },
 "nbformat": 4,
 "nbformat_minor": 5
}
